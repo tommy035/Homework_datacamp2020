{
 "cells": [
  {
   "cell_type": "code",
   "execution_count": 1,
   "metadata": {},
   "outputs": [
    {
     "name": "stdout",
     "output_type": "stream",
     "text": [
      "[0. 0. 0. 0. 0. 0. 0. 0. 0. 0.]\n",
      "[[0. 0. 0. 0.]\n",
      " [0. 0. 0. 0.]\n",
      " [0. 0. 0. 0.]\n",
      " [0. 0. 0. 0.]]\n"
     ]
    }
   ],
   "source": [
    "# 1.จงเขียน array ที่มีแต่เลข 0 แบบ vector 10 ตัว และ แบบ Matrix 4x4\n",
    "import numpy as np\n",
    "A = np.zeros(10)\n",
    "B = np.zeros((4,4))\n",
    "print(A)\n",
    "print(B)\n"
   ]
  },
  {
   "cell_type": "code",
   "execution_count": 3,
   "metadata": {},
   "outputs": [
    {
     "name": "stdout",
     "output_type": "stream",
     "text": [
      "[1. 1. 1. 1. 1.]\n",
      "[[1. 1. 1.]\n",
      " [1. 1. 1.]\n",
      " [1. 1. 1.]]\n"
     ]
    }
   ],
   "source": [
    "# 2.จงเขียน array ที่มีแต่เลข 1 แบบ vector 5 ตัว และ แบบ Matrix 3x3\n",
    "import numpy as np\n",
    "A = np.ones(5)\n",
    "B = np.ones((3,3))\n",
    "print(A); print(B)"
   ]
  },
  {
   "cell_type": "code",
   "execution_count": 13,
   "metadata": {},
   "outputs": [
    {
     "name": "stdout",
     "output_type": "stream",
     "text": [
      "[48.81077682 65.55462038 74.40098267 23.35930724 48.56981361 23.95850259\n",
      " 85.59408824 73.5825221  22.67726572 76.33054856 85.1982433  29.78641505\n",
      " 53.56958634 90.61353996 50.01392676 46.35033453 37.3576843  74.98080425\n",
      " 97.8445959  85.25519449]\n",
      "[2382.4919334  4297.40825331 5535.50622161  545.65723452 2359.02679387\n",
      "  574.00984635 7326.3479416  5414.38755933  514.25838045 5826.35264358\n",
      " 7258.74066123  887.23052174 2869.70058036 8210.81362455 2501.39287008\n",
      " 2148.35351135 1395.59657619 5622.12100555 9573.56494759 7268.44818674]\n"
     ]
    }
   ],
   "source": [
    "# 3.จงเขียน array ที่มีเป็นการ random ตัวเลข 20 ตัว แบบ float ค่าอยู่ในช่วง 10-99 แล้วนำแต่ละเลขยกกำลังสอง\n",
    "import numpy as np\n",
    "A = np.random.uniform(10,99,20)\n",
    "B = A**2\n",
    "print(A)\n",
    "print(B)"
   ]
  },
  {
   "cell_type": "code",
   "execution_count": 15,
   "metadata": {},
   "outputs": [
    {
     "name": "stdout",
     "output_type": "stream",
     "text": [
      "[55.48911339 41.58569319 13.65032219 45.66158931 66.37888064 56.97445209\n",
      " 59.45273498 37.20581134 73.12998415 80.9008788  76.17738403 78.48789714\n",
      " 57.47749768 10.6454976  96.47971543 60.85085688 62.39906481 64.65565192\n",
      " 29.98910923 11.14485621]\n",
      "[3079.0417052746275, 1729.3698783081352, 186.33129591276654, 2084.9807386906514, 4406.155795573415, 3246.088190397119, 3534.627696591997, 1384.2723974012956, 5347.994582273312, 6544.952191285429, 5802.993838084363, 6160.349997147931, 3303.6627397771167, 113.32661917771199, 9308.335489218016, 3702.826782805467, 3893.6432885982563, 4180.353325400118, 899.3466725346544, 124.20781995726647]\n"
     ]
    }
   ],
   "source": [
    "# 4.ทำเหมือนข้อ 3 แต่เขียนแบบ List comprehension\n",
    "import numpy as np\n",
    "A = np.random.uniform(10,99,20)\n",
    "B = [x**2 for x in A]\n",
    "print(A)\n",
    "print(B)"
   ]
  },
  {
   "cell_type": "code",
   "execution_count": 1,
   "metadata": {},
   "outputs": [
    {
     "name": "stdout",
     "output_type": "stream",
     "text": [
      "[6912.34228896 6232.35252115 1203.6175892  2755.3467826  6814.63823836\n",
      "  344.66364147 2021.675936   4365.06112754  320.35593483 4183.86313783\n",
      " 1939.68107403 2607.52774737 9023.39678821  947.14823389 2869.32005156\n",
      " 8947.11840918 9621.4691824   323.60550902 6982.26727608 7065.18428332]\n",
      "3.8399696350097656\n",
      "[6912.342288955081, 6232.352521148507, 1203.6175891990997, 2755.346782604905, 6814.638238359013, 344.6636414742737, 2021.6759360046144, 4365.061127538279, 320.35593483188524, 4183.863137832667, 1939.6810740295653, 2607.5277473692277, 9023.396788213675, 947.1482338905256, 2869.3200515611256, 8947.11840917747, 9621.469182400577, 323.6055090160254, 6982.2672760819105, 7065.184283316464]\n",
      "0.0\n"
     ]
    }
   ],
   "source": [
    "# 5.นำข้อ 3 และ 4 มาเปรียบเวลากัน โดยใช้ฟังก์ชั่น time.time( ) เพื่อจับเวลา แสดงผลลัพธ์ในรูปแบบมิลลิวินาที\n",
    "import numpy as np\n",
    "import time\n",
    "# แบบ numpy\n",
    "A = np.random.uniform(10,99,20)\n",
    "time1 = time.time()\n",
    "B = A**2\n",
    "print(B)\n",
    "time2 = time.time()\n",
    "print((time2-time1)*1000)\n",
    "# แบบ list comprehension\n",
    "import time\n",
    "time3 = time.time()\n",
    "C = [x**2 for x in A]\n",
    "print(C)\n",
    "time4 = time.time()\n",
    "print((time4-time3)*1000)\n"
   ]
  },
  {
   "cell_type": "code",
   "execution_count": 1,
   "metadata": {},
   "outputs": [
    {
     "data": {
      "text/plain": [
       "array([  10,   11,   12,   13,   14,   15,   16,   17,   18,   19,   20,\n",
       "         21,   22,   23,   24,   25,   26,   27,   28,   29,   30,   31,\n",
       "         32,   33,   34,   35,   36,   37,   38,   39,   40,   41,   42,\n",
       "         43,   44,   45,   46,   47,   48,   49,   50,   51,   52,   53,\n",
       "         54,   55,   56,   57,   58,   59,   60,   61,   62,   63,   64,\n",
       "         65,   66,   67,   68,   69,   70,   71,   72,   73,   74,   75,\n",
       "         76,   77,   78,   79,   80,   81,   82,   83,   84,   85,   86,\n",
       "         87,   88,   89,   90,   91,   92,   93,   94,   95,   96,   97,\n",
       "         98,   99,  100,  101,  102,  103,  104,  105,  106,  107,  108,\n",
       "        109,  110,  111,  112,  113,  114,  115,  116,  117,  118,  119,\n",
       "        120,  121,  122,  123,  124,  125,  126,  127,  128,  129,  130,\n",
       "        131,  132,  133,  134,  135,  136,  137,  138,  139,  140,  141,\n",
       "        142,  143,  144,  145,  146,  147,  148,  149,  150,  151,  152,\n",
       "        153,  154,  155,  156,  157,  158,  159,  160,  161,  162,  163,\n",
       "        164,  165,  166,  167,  168,  169,  170,  171,  172,  173,  174,\n",
       "        175,  176,  177,  178,  179,  180,  181,  182,  183,  184,  185,\n",
       "        186,  187,  188,  189,  190,  191,  192,  193,  194,  195,  196,\n",
       "        197,  198,  199,  200,  201,  202,  203,  204,  205,  206,  207,\n",
       "        208,  209,  210,  211,  212,  213,  214,  215,  216,  217,  218,\n",
       "        219,  220,  221,  222,  223,  224,  225,  226,  227,  228,  229,\n",
       "        230,  231,  232,  233,  234,  235,  236,  237,  238,  239,  240,\n",
       "        241,  242,  243,  244,  245,  246,  247,  248,  249,  250,  251,\n",
       "        252,  253,  254,  255,  256,  257,  258,  259,  260,  261,  262,\n",
       "        263,  264,  265,  266,  267,  268,  269,  270,  271,  272,  273,\n",
       "        274,  275,  276,  277,  278,  279,  280,  281,  282,  283,  284,\n",
       "        285,  286,  287,  288,  289,  290,  291,  292,  293,  294,  295,\n",
       "        296,  297,  298,  299,  300,  301,  302,  303,  304,  305,  306,\n",
       "        307,  308,  309,  310,  311,  312,  313,  314,  315,  316,  317,\n",
       "        318,  319,  320,  321,  322,  323,  324,  325,  326,  327,  328,\n",
       "        329,  330,  331,  332,  333,  334,  335,  336,  337,  338,  339,\n",
       "        340,  341,  342,  343,  344,  345,  346,  347,  348,  349,  350,\n",
       "        351,  352,  353,  354,  355,  356,  357,  358,  359,  360,  361,\n",
       "        362,  363,  364,  365,  366,  367,  368,  369,  370,  371,  372,\n",
       "        373,  374,  375,  376,  377,  378,  379,  380,  381,  382,  383,\n",
       "        384,  385,  386,  387,  388,  389,  390,  391,  392,  393,  394,\n",
       "        395,  396,  397,  398,  399,  400,  401,  402,  403,  404,  405,\n",
       "        406,  407,  408,  409,  410,  411,  412,  413,  414,  415,  416,\n",
       "        417,  418,  419,  420,  421,  422,  423,  424,  425,  426,  427,\n",
       "        428,  429,  430,  431,  432,  433,  434,  435,  436,  437,  438,\n",
       "        439,  440,  441,  442,  443,  444,  445,  446,  447,  448,  449,\n",
       "        450,  451,  452,  453,  454,  455,  456,  457,  458,  459,  460,\n",
       "        461,  462,  463,  464,  465,  466,  467,  468,  469,  470,  471,\n",
       "        472,  473,  474,  475,  476,  477,  478,  479,  480,  481,  482,\n",
       "        483,  484,  485,  486,  487,  488,  489,  490,  491,  492,  493,\n",
       "        494,  495,  496,  497,  498,  499,  500,  501,  502,  503,  504,\n",
       "        505,  506,  507,  508,  509,  510,  511,  512,  513,  514,  515,\n",
       "        516,  517,  518,  519,  520,  521,  522,  523,  524,  525,  526,\n",
       "        527,  528,  529,  530,  531,  532,  533,  534,  535,  536,  537,\n",
       "        538,  539,  540,  541,  542,  543,  544,  545,  546,  547,  548,\n",
       "        549,  550,  551,  552,  553,  554,  555,  556,  557,  558,  559,\n",
       "        560,  561,  562,  563,  564,  565,  566,  567,  568,  569,  570,\n",
       "        571,  572,  573,  574,  575,  576,  577,  578,  579,  580,  581,\n",
       "        582,  583,  584,  585,  586,  587,  588,  589,  590,  591,  592,\n",
       "        593,  594,  595,  596,  597,  598,  599,  600,  601,  602,  603,\n",
       "        604,  605,  606,  607,  608,  609,  610,  611,  612,  613,  614,\n",
       "        615,  616,  617,  618,  619,  620,  621,  622,  623,  624,  625,\n",
       "        626,  627,  628,  629,  630,  631,  632,  633,  634,  635,  636,\n",
       "        637,  638,  639,  640,  641,  642,  643,  644,  645,  646,  647,\n",
       "        648,  649,  650,  651,  652,  653,  654,  655,  656,  657,  658,\n",
       "        659,  660,  661,  662,  663,  664,  665,  666,  667,  668,  669,\n",
       "        670,  671,  672,  673,  674,  675,  676,  677,  678,  679,  680,\n",
       "        681,  682,  683,  684,  685,  686,  687,  688,  689,  690,  691,\n",
       "        692,  693,  694,  695,  696,  697,  698,  699,  700,  701,  702,\n",
       "        703,  704,  705,  706,  707,  708,  709,  710,  711,  712,  713,\n",
       "        714,  715,  716,  717,  718,  719,  720,  721,  722,  723,  724,\n",
       "        725,  726,  727,  728,  729,  730,  731,  732,  733,  734,  735,\n",
       "        736,  737,  738,  739,  740,  741,  742,  743,  744,  745,  746,\n",
       "        747,  748,  749,  750,  751,  752,  753,  754,  755,  756,  757,\n",
       "        758,  759,  760,  761,  762,  763,  764,  765,  766,  767,  768,\n",
       "        769,  770,  771,  772,  773,  774,  775,  776,  777,  778,  779,\n",
       "        780,  781,  782,  783,  784,  785,  786,  787,  788,  789,  790,\n",
       "        791,  792,  793,  794,  795,  796,  797,  798,  799,  800,  801,\n",
       "        802,  803,  804,  805,  806,  807,  808,  809,  810,  811,  812,\n",
       "        813,  814,  815,  816,  817,  818,  819,  820,  821,  822,  823,\n",
       "        824,  825,  826,  827,  828,  829,  830,  831,  832,  833,  834,\n",
       "        835,  836,  837,  838,  839,  840,  841,  842,  843,  844,  845,\n",
       "        846,  847,  848,  849,  850,  851,  852,  853,  854,  855,  856,\n",
       "        857,  858,  859,  860,  861,  862,  863,  864,  865,  866,  867,\n",
       "        868,  869,  870,  871,  872,  873,  874,  875,  876,  877,  878,\n",
       "        879,  880,  881,  882,  883,  884,  885,  886,  887,  888,  889,\n",
       "        890,  891,  892,  893,  894,  895,  896,  897,  898,  899,  900,\n",
       "        901,  902,  903,  904,  905,  906,  907,  908,  909,  910,  911,\n",
       "        912,  913,  914,  915,  916,  917,  918,  919,  920,  921,  922,\n",
       "        923,  924,  925,  926,  927,  928,  929,  930,  931,  932,  933,\n",
       "        934,  935,  936,  937,  938,  939,  940,  941,  942,  943,  944,\n",
       "        945,  946,  947,  948,  949,  950,  951,  952,  953,  954,  955,\n",
       "        956,  957,  958,  959,  960,  961,  962,  963,  964,  965,  966,\n",
       "        967,  968,  969,  970,  971,  972,  973,  974,  975,  976,  977,\n",
       "        978,  979,  980,  981,  982,  983,  984,  985,  986,  987,  988,\n",
       "        989,  990,  991,  992,  993,  994,  995,  996,  997,  998,  999,\n",
       "       1000])"
      ]
     },
     "execution_count": 1,
     "metadata": {},
     "output_type": "execute_result"
    }
   ],
   "source": [
    "# 6.จงเขียน array ที่ใช้ฟังก์ชั่นใน numpy ได้เลข 10 ถึง 1000  \n",
    "import numpy as np\n",
    "np.arange(10,1001)"
   ]
  },
  {
   "cell_type": "code",
   "execution_count": 2,
   "metadata": {},
   "outputs": [
    {
     "data": {
      "text/plain": [
       "array([  10,   12,   14,   16,   18,   20,   22,   24,   26,   28,   30,\n",
       "         32,   34,   36,   38,   40,   42,   44,   46,   48,   50,   52,\n",
       "         54,   56,   58,   60,   62,   64,   66,   68,   70,   72,   74,\n",
       "         76,   78,   80,   82,   84,   86,   88,   90,   92,   94,   96,\n",
       "         98,  100,  102,  104,  106,  108,  110,  112,  114,  116,  118,\n",
       "        120,  122,  124,  126,  128,  130,  132,  134,  136,  138,  140,\n",
       "        142,  144,  146,  148,  150,  152,  154,  156,  158,  160,  162,\n",
       "        164,  166,  168,  170,  172,  174,  176,  178,  180,  182,  184,\n",
       "        186,  188,  190,  192,  194,  196,  198,  200,  202,  204,  206,\n",
       "        208,  210,  212,  214,  216,  218,  220,  222,  224,  226,  228,\n",
       "        230,  232,  234,  236,  238,  240,  242,  244,  246,  248,  250,\n",
       "        252,  254,  256,  258,  260,  262,  264,  266,  268,  270,  272,\n",
       "        274,  276,  278,  280,  282,  284,  286,  288,  290,  292,  294,\n",
       "        296,  298,  300,  302,  304,  306,  308,  310,  312,  314,  316,\n",
       "        318,  320,  322,  324,  326,  328,  330,  332,  334,  336,  338,\n",
       "        340,  342,  344,  346,  348,  350,  352,  354,  356,  358,  360,\n",
       "        362,  364,  366,  368,  370,  372,  374,  376,  378,  380,  382,\n",
       "        384,  386,  388,  390,  392,  394,  396,  398,  400,  402,  404,\n",
       "        406,  408,  410,  412,  414,  416,  418,  420,  422,  424,  426,\n",
       "        428,  430,  432,  434,  436,  438,  440,  442,  444,  446,  448,\n",
       "        450,  452,  454,  456,  458,  460,  462,  464,  466,  468,  470,\n",
       "        472,  474,  476,  478,  480,  482,  484,  486,  488,  490,  492,\n",
       "        494,  496,  498,  500,  502,  504,  506,  508,  510,  512,  514,\n",
       "        516,  518,  520,  522,  524,  526,  528,  530,  532,  534,  536,\n",
       "        538,  540,  542,  544,  546,  548,  550,  552,  554,  556,  558,\n",
       "        560,  562,  564,  566,  568,  570,  572,  574,  576,  578,  580,\n",
       "        582,  584,  586,  588,  590,  592,  594,  596,  598,  600,  602,\n",
       "        604,  606,  608,  610,  612,  614,  616,  618,  620,  622,  624,\n",
       "        626,  628,  630,  632,  634,  636,  638,  640,  642,  644,  646,\n",
       "        648,  650,  652,  654,  656,  658,  660,  662,  664,  666,  668,\n",
       "        670,  672,  674,  676,  678,  680,  682,  684,  686,  688,  690,\n",
       "        692,  694,  696,  698,  700,  702,  704,  706,  708,  710,  712,\n",
       "        714,  716,  718,  720,  722,  724,  726,  728,  730,  732,  734,\n",
       "        736,  738,  740,  742,  744,  746,  748,  750,  752,  754,  756,\n",
       "        758,  760,  762,  764,  766,  768,  770,  772,  774,  776,  778,\n",
       "        780,  782,  784,  786,  788,  790,  792,  794,  796,  798,  800,\n",
       "        802,  804,  806,  808,  810,  812,  814,  816,  818,  820,  822,\n",
       "        824,  826,  828,  830,  832,  834,  836,  838,  840,  842,  844,\n",
       "        846,  848,  850,  852,  854,  856,  858,  860,  862,  864,  866,\n",
       "        868,  870,  872,  874,  876,  878,  880,  882,  884,  886,  888,\n",
       "        890,  892,  894,  896,  898,  900,  902,  904,  906,  908,  910,\n",
       "        912,  914,  916,  918,  920,  922,  924,  926,  928,  930,  932,\n",
       "        934,  936,  938,  940,  942,  944,  946,  948,  950,  952,  954,\n",
       "        956,  958,  960,  962,  964,  966,  968,  970,  972,  974,  976,\n",
       "        978,  980,  982,  984,  986,  988,  990,  992,  994,  996,  998,\n",
       "       1000, 1002, 1004, 1006, 1008, 1010, 1012, 1014, 1016, 1018, 1020,\n",
       "       1022, 1024, 1026, 1028, 1030, 1032, 1034, 1036, 1038, 1040, 1042,\n",
       "       1044, 1046, 1048, 1050, 1052, 1054, 1056, 1058, 1060, 1062, 1064,\n",
       "       1066, 1068, 1070, 1072, 1074, 1076, 1078, 1080, 1082, 1084, 1086,\n",
       "       1088, 1090, 1092, 1094, 1096, 1098, 1100, 1102, 1104, 1106, 1108,\n",
       "       1110, 1112, 1114, 1116, 1118, 1120, 1122, 1124, 1126, 1128, 1130,\n",
       "       1132, 1134, 1136, 1138, 1140, 1142, 1144, 1146, 1148, 1150, 1152,\n",
       "       1154, 1156, 1158, 1160, 1162, 1164, 1166, 1168, 1170, 1172, 1174,\n",
       "       1176, 1178, 1180, 1182, 1184, 1186, 1188, 1190, 1192, 1194, 1196,\n",
       "       1198, 1200, 1202, 1204, 1206, 1208, 1210, 1212, 1214, 1216, 1218,\n",
       "       1220, 1222, 1224, 1226, 1228, 1230, 1232, 1234, 1236, 1238, 1240,\n",
       "       1242, 1244, 1246, 1248, 1250, 1252, 1254, 1256, 1258, 1260, 1262,\n",
       "       1264, 1266, 1268, 1270, 1272, 1274, 1276, 1278, 1280, 1282, 1284,\n",
       "       1286, 1288, 1290, 1292, 1294, 1296, 1298, 1300, 1302, 1304, 1306,\n",
       "       1308, 1310, 1312, 1314, 1316, 1318, 1320, 1322, 1324, 1326, 1328,\n",
       "       1330, 1332, 1334, 1336, 1338, 1340, 1342, 1344, 1346, 1348, 1350,\n",
       "       1352, 1354, 1356, 1358, 1360, 1362, 1364, 1366, 1368, 1370, 1372,\n",
       "       1374, 1376, 1378, 1380, 1382, 1384, 1386, 1388, 1390, 1392, 1394,\n",
       "       1396, 1398, 1400, 1402, 1404, 1406, 1408, 1410, 1412, 1414, 1416,\n",
       "       1418, 1420, 1422, 1424, 1426, 1428, 1430, 1432, 1434, 1436, 1438,\n",
       "       1440, 1442, 1444, 1446, 1448, 1450, 1452, 1454, 1456, 1458, 1460,\n",
       "       1462, 1464, 1466, 1468, 1470, 1472, 1474, 1476, 1478, 1480, 1482,\n",
       "       1484, 1486, 1488, 1490, 1492, 1494, 1496, 1498, 1500, 1502, 1504,\n",
       "       1506, 1508, 1510, 1512, 1514, 1516, 1518, 1520, 1522, 1524, 1526,\n",
       "       1528, 1530, 1532, 1534, 1536, 1538, 1540, 1542, 1544, 1546, 1548,\n",
       "       1550, 1552, 1554, 1556, 1558, 1560, 1562, 1564, 1566, 1568, 1570,\n",
       "       1572, 1574, 1576, 1578, 1580, 1582, 1584, 1586, 1588, 1590, 1592,\n",
       "       1594, 1596, 1598, 1600, 1602, 1604, 1606, 1608, 1610, 1612, 1614,\n",
       "       1616, 1618, 1620, 1622, 1624, 1626, 1628, 1630, 1632, 1634, 1636,\n",
       "       1638, 1640, 1642, 1644, 1646, 1648, 1650, 1652, 1654, 1656, 1658,\n",
       "       1660, 1662, 1664, 1666, 1668, 1670, 1672, 1674, 1676, 1678, 1680,\n",
       "       1682, 1684, 1686, 1688, 1690, 1692, 1694, 1696, 1698, 1700, 1702,\n",
       "       1704, 1706, 1708, 1710, 1712, 1714, 1716, 1718, 1720, 1722, 1724,\n",
       "       1726, 1728, 1730, 1732, 1734, 1736, 1738, 1740, 1742, 1744, 1746,\n",
       "       1748, 1750, 1752, 1754, 1756, 1758, 1760, 1762, 1764, 1766, 1768,\n",
       "       1770, 1772, 1774, 1776, 1778, 1780, 1782, 1784, 1786, 1788, 1790,\n",
       "       1792, 1794, 1796, 1798, 1800, 1802, 1804, 1806, 1808, 1810, 1812,\n",
       "       1814, 1816, 1818, 1820, 1822, 1824, 1826, 1828, 1830, 1832, 1834,\n",
       "       1836, 1838, 1840, 1842, 1844, 1846, 1848, 1850, 1852, 1854, 1856,\n",
       "       1858, 1860, 1862, 1864, 1866, 1868, 1870, 1872, 1874, 1876, 1878,\n",
       "       1880, 1882, 1884, 1886, 1888, 1890, 1892, 1894, 1896, 1898, 1900,\n",
       "       1902, 1904, 1906, 1908, 1910, 1912, 1914, 1916, 1918, 1920, 1922,\n",
       "       1924, 1926, 1928, 1930, 1932, 1934, 1936, 1938, 1940, 1942, 1944,\n",
       "       1946, 1948, 1950, 1952, 1954, 1956, 1958, 1960, 1962, 1964, 1966,\n",
       "       1968, 1970, 1972, 1974, 1976, 1978, 1980, 1982, 1984, 1986, 1988,\n",
       "       1990, 1992, 1994, 1996, 1998, 2000])"
      ]
     },
     "execution_count": 2,
     "metadata": {},
     "output_type": "execute_result"
    }
   ],
   "source": [
    "# 7.จงเขียน array ที่ใช้ฟังก์ชั่นใน numpy ได้เลขคู่ 10 ถึง 2000 \n",
    "import numpy as np\n",
    "np.arange(10,2001,2)"
   ]
  },
  {
   "cell_type": "code",
   "execution_count": 3,
   "metadata": {},
   "outputs": [
    {
     "data": {
      "text/plain": [
       "array([ 13,  15,  17,  19,  21,  23,  25,  27,  29,  31,  33,  35,  37,\n",
       "        39,  41,  43,  45,  47,  49,  51,  53,  55,  57,  59,  61,  63,\n",
       "        65,  67,  69,  71,  73,  75,  77,  79,  81,  83,  85,  87,  89,\n",
       "        91,  93,  95,  97,  99, 101, 103, 105, 107, 109, 111, 113, 115,\n",
       "       117, 119, 121, 123, 125, 127, 129, 131, 133, 135, 137, 139, 141,\n",
       "       143, 145, 147, 149, 151, 153, 155, 157, 159, 161, 163, 165, 167,\n",
       "       169, 171, 173, 175, 177, 179, 181, 183, 185, 187, 189, 191, 193,\n",
       "       195, 197, 199, 201, 203, 205, 207, 209, 211, 213, 215, 217, 219,\n",
       "       221, 223, 225, 227, 229, 231, 233, 235, 237, 239, 241, 243, 245,\n",
       "       247, 249, 251, 253, 255, 257, 259, 261, 263, 265, 267, 269, 271,\n",
       "       273, 275, 277, 279, 281, 283, 285, 287, 289, 291, 293, 295, 297,\n",
       "       299, 301, 303, 305, 307, 309, 311, 313, 315, 317, 319, 321, 323,\n",
       "       325, 327, 329, 331, 333, 335, 337, 339, 341, 343, 345, 347, 349,\n",
       "       351, 353, 355, 357, 359, 361, 363, 365, 367, 369, 371, 373, 375,\n",
       "       377, 379, 381, 383, 385, 387, 389, 391, 393, 395, 397, 399, 401,\n",
       "       403, 405, 407, 409, 411, 413, 415, 417, 419, 421, 423, 425, 427,\n",
       "       429, 431, 433, 435, 437, 439, 441, 443, 445, 447, 449, 451, 453,\n",
       "       455, 457, 459, 461, 463, 465, 467, 469, 471, 473, 475, 477, 479,\n",
       "       481, 483, 485, 487, 489, 491, 493, 495, 497, 499, 501, 503, 505,\n",
       "       507, 509, 511, 513, 515, 517, 519, 521, 523, 525, 527, 529, 531,\n",
       "       533, 535, 537, 539, 541, 543, 545, 547, 549, 551, 553, 555, 557,\n",
       "       559, 561, 563, 565, 567, 569, 571, 573, 575, 577, 579, 581, 583,\n",
       "       585, 587, 589, 591, 593, 595, 597, 599, 601, 603, 605, 607, 609,\n",
       "       611, 613, 615, 617, 619, 621, 623, 625, 627, 629, 631, 633, 635,\n",
       "       637, 639, 641, 643, 645, 647, 649, 651, 653, 655, 657, 659, 661,\n",
       "       663, 665, 667, 669, 671, 673, 675, 677, 679, 681, 683, 685, 687,\n",
       "       689, 691, 693, 695, 697, 699, 701, 703, 705, 707, 709, 711, 713,\n",
       "       715, 717, 719, 721, 723, 725, 727, 729, 731, 733, 735, 737, 739,\n",
       "       741, 743, 745, 747, 749, 751, 753, 755, 757, 759, 761, 763, 765,\n",
       "       767, 769, 771, 773, 775, 777, 779, 781, 783, 785, 787, 789, 791,\n",
       "       793, 795, 797, 799, 801, 803, 805, 807, 809, 811, 813, 815, 817,\n",
       "       819, 821, 823, 825, 827, 829, 831, 833, 835, 837, 839, 841, 843,\n",
       "       845, 847, 849, 851, 853, 855, 857, 859, 861, 863, 865, 867, 869,\n",
       "       871, 873, 875, 877, 879, 881, 883, 885, 887, 889, 891, 893, 895,\n",
       "       897, 899])"
      ]
     },
     "execution_count": 3,
     "metadata": {},
     "output_type": "execute_result"
    }
   ],
   "source": [
    "# 8.จงเขียน array ที่ใช้ฟังก์ชั่นใน numpy ได้เลขคี่ 12 ถึง 900\n",
    "import numpy as np\n",
    "np.arange(13,900,2)"
   ]
  },
  {
   "cell_type": "code",
   "execution_count": 4,
   "metadata": {},
   "outputs": [
    {
     "data": {
      "text/plain": [
       "array([[1., 0., 0., 0.],\n",
       "       [0., 1., 0., 0.],\n",
       "       [0., 0., 1., 0.],\n",
       "       [0., 0., 0., 1.]])"
      ]
     },
     "execution_count": 4,
     "metadata": {},
     "output_type": "execute_result"
    }
   ],
   "source": [
    "# 9.จงสร้าง identity matrix แบบ 4x4\n",
    "import numpy as np\n",
    "np.eye(4)"
   ]
  },
  {
   "cell_type": "code",
   "execution_count": 6,
   "metadata": {},
   "outputs": [
    {
     "name": "stdout",
     "output_type": "stream",
     "text": [
      "0.20202020202020243\n"
     ]
    }
   ],
   "source": [
    "# 10.จงหาว่า array ที่มีสมาชิก 100 ตัว เริ่มจาก 5 ถึง 25 มีผลต่างแต่ละตัวเท่ากับเท่าใด\n",
    "import numpy as np\n",
    "x = np.linspace(5,25,100)\n",
    "print(x[1] - x[0])"
   ]
  },
  {
   "cell_type": "code",
   "execution_count": 8,
   "metadata": {},
   "outputs": [
    {
     "name": "stdout",
     "output_type": "stream",
     "text": [
      "[0.1190074]\n"
     ]
    }
   ],
   "source": [
    "# 11.จงเขียนฟังก์ชั่น random ตัวเลขแบบ float ในช่วง 0-1 ขึ้นมา 1 ตัว\n",
    "import numpy as np\n",
    "x =np.random.rand(1)\n",
    "print(x)"
   ]
  },
  {
   "cell_type": "code",
   "execution_count": 11,
   "metadata": {},
   "outputs": [
    {
     "name": "stdout",
     "output_type": "stream",
     "text": [
      "[[71 86 79 85]\n",
      " [78 70 53 88]\n",
      " [89 94 60 67]\n",
      " [52 97 76 76]]\n",
      "[[71 78 89 52]\n",
      " [86 70 94 97]\n",
      " [79 53 60 76]\n",
      " [85 88 67 76]]\n"
     ]
    }
   ],
   "source": [
    "# 12.จงเขียนฟังก์ชั่นที่ random ตัวเลขแบบ int ในช่วง 50-100 โดยให้อยู่ในรูป Matrix 4x4 และ Transpose  \n",
    "import numpy as np\n",
    "y = np.random.randint(50,101,(4,4))\n",
    "z =y.T\n",
    "print(y); print(z)"
   ]
  },
  {
   "attachments": {
    "array1-25.png": {
     "image/png": "[encoded data removed]"
    }
   },
   "cell_type": "markdown",
   "metadata": {},
   "source": [
    "![array1-25.png](attachment:array1-25.png)\n"
   ]
  },
  {
   "cell_type": "code",
   "execution_count": 9,
   "metadata": {},
   "outputs": [
    {
     "data": {
      "text/plain": [
       "array([[ 8,  9],\n",
       "       [13, 14]])"
      ]
     },
     "execution_count": 9,
     "metadata": {},
     "output_type": "execute_result"
    }
   ],
   "source": [
    "# 13.ให้ array ที่กำหนด จงเขียนโค้ดที่เลือกเฉพาะ 8,9,13,14 \n",
    "import numpy as np\n",
    "x = np.arange(1,26).reshape(5,5)\n",
    "y = x[1:3,2:4]\n",
    "y"
   ]
  },
  {
   "cell_type": "code",
   "execution_count": 10,
   "metadata": {},
   "outputs": [
    {
     "data": {
      "text/plain": [
       "array([18, 19, 20])"
      ]
     },
     "execution_count": 10,
     "metadata": {},
     "output_type": "execute_result"
    }
   ],
   "source": [
    "# 14.ให้ array ที่กำหนด จงเขียนโค้ดที่เลือกเฉพาะ 18,19,20\n",
    "import numpy as np\n",
    "x = np.arange(1,26).reshape(5,5)\n",
    "y = x[3,2:]\n",
    "y"
   ]
  },
  {
   "cell_type": "code",
   "execution_count": 11,
   "metadata": {},
   "outputs": [
    {
     "data": {
      "text/plain": [
       "array([[16, 17],\n",
       "       [21, 22]])"
      ]
     },
     "execution_count": 11,
     "metadata": {},
     "output_type": "execute_result"
    }
   ],
   "source": [
    "# 15.ให้ array ที่กำหนด จงเขียนโค้ดที่เลือกเฉพาะ 16,17,21,22\n",
    "import numpy as np\n",
    "x = np.arange(1,26).reshape(5,5)\n",
    "y = x[3:,:2]\n",
    "y"
   ]
  },
  {
   "cell_type": "code",
   "execution_count": 12,
   "metadata": {},
   "outputs": [
    {
     "data": {
      "text/plain": [
       "array([11, 12, 13, 14, 15])"
      ]
     },
     "execution_count": 12,
     "metadata": {},
     "output_type": "execute_result"
    }
   ],
   "source": [
    "# 16.ให้ array ที่กำหนด จงเขียนโค้ดที่เลือกทั้งแถว 3\n",
    "import numpy as np\n",
    "x = np.arange(1,26).reshape(5,5)\n",
    "y = x[2]\n",
    "y"
   ]
  },
  {
   "cell_type": "code",
   "execution_count": 13,
   "metadata": {},
   "outputs": [
    {
     "data": {
      "text/plain": [
       "array([[ 1,  2,  3,  4,  5],\n",
       "       [ 6,  7,  8,  9, 10],\n",
       "       [11, 12, 13, 14, 15],\n",
       "       [16, 17, 18, 19, 20],\n",
       "       [21, 22, 23, 24, 25]])"
      ]
     },
     "execution_count": 13,
     "metadata": {},
     "output_type": "execute_result"
    }
   ],
   "source": [
    "# 17.จงเขียนโค้ดที่ทำให้ได้ array นี้ออกมา\n",
    "import numpy as np\n",
    "x = np.arange(1,26).reshape(5,5)\n",
    "x"
   ]
  },
  {
   "cell_type": "code",
   "execution_count": 29,
   "metadata": {},
   "outputs": [
    {
     "name": "stdout",
     "output_type": "stream",
     "text": [
      "[[ 41  55 100  17  27]\n",
      " [ 47  17  15  34  73]\n",
      " [ 50  53  63  89  74]\n",
      " [ 89  71  33  49  12]\n",
      " [ 61  91  76  42  48]]\n",
      "55\n",
      "100\n",
      "73\n",
      "53\n",
      "63\n",
      "89\n",
      "74\n",
      "89\n",
      "71\n",
      "61\n",
      "91\n",
      "76\n"
     ]
    }
   ],
   "source": [
    "# 18.จงเขียนโปรแกรมสุ่มเลขจำนวนเต็มในช่วง 10-100 ออกมาอยู่ใน matrix 5x5 และใช้ If-else เช็คทีละตัวว่าตัวใดบ้างที่มีค่ามากกว่า 50 และปริ้นออกมา\n",
    "import numpy as np\n",
    "x = np.random.randint(10,101,(5,5))\n",
    "print(x)\n",
    "for i in x: \n",
    "    for j in i:\n",
    "        if j >50:\n",
    "            print(j)\n"
   ]
  },
  {
   "cell_type": "code",
   "execution_count": 27,
   "metadata": {},
   "outputs": [
    {
     "name": "stdout",
     "output_type": "stream",
     "text": [
      "[[ 68  24  28  41  39]\n",
      " [100  63  83  93  53]\n",
      " [ 31  88  82  14  86]\n",
      " [ 55  21  93  40  93]\n",
      " [ 62  37  33  89  28]]\n",
      "[68, 41, 100, 63, 83, 93, 53, 88, 82, 86, 55, 93, 93, 62, 89]\n"
     ]
    }
   ],
   "source": [
    "# 19.จงเขียนโปรแกรมสุ่มเลขจำนวนเต็มในช่วง 10-100 ออกมาอยู่ใน matrix 5x5 และใช้ conditional selection เช็คว่าตัวใดบ้างมีค่ามากกว่า 40 นำมาใส่ List ที่สร้างใหม่ และปริ้นออกมา\n",
    "import numpy as np\n",
    "x = np.random.randint(10,101,(5,5))\n",
    "print(x)\n",
    "y = x[x > 40]\n",
    "print(list(y))\n"
   ]
  },
  {
   "cell_type": "code",
   "execution_count": 14,
   "metadata": {},
   "outputs": [
    {
     "name": "stdout",
     "output_type": "stream",
     "text": [
      "enter number: 24\n",
      "enter number: 35\n",
      "enter number: 23\n",
      "enter number: 67\n",
      "enter number: 45\n",
      "enter number: 68\n",
      "enter number: 34\n",
      "enter number: 98\n",
      "enter number: 57\n",
      "[[34 67 35]\n",
      " [68 98 45]\n",
      " [23 24 57]]\n",
      "[[34 68 23]\n",
      " [67 98 24]\n",
      " [35 45 57]]\n",
      "98\n"
     ]
    }
   ],
   "source": [
    "# 20.เขียนโปรแกรมรับค่าจากผู้ใช้ให้ป้อนเลข 9 ตัว แต่ละตัวต้องไม่ซ้ำกันและมีค่าอยู่ในช่วง 10-100 นำเลข 9 ตัวนั้นมาทำเป็น matrix 3x3 และ transport และหาเลขอยู่ตำแหน่งที่ (2,2)\n",
    "import numpy as np\n",
    "y= []\n",
    "b = set(y)\n",
    "while len(b) <=8 :\n",
    "    x =int(input(\"enter number: \"))\n",
    "    if x in range(10,101) :\n",
    "        b.add(x)\n",
    "    else:\n",
    "        print('please re-enter number in range 10 -100')\n",
    "z = np.array(list(b)).reshape(3,3)\n",
    "w = z.T\n",
    "print(z)\n",
    "print(w)\n",
    "print(w[1][1])"
   ]
  },
  {
   "cell_type": "markdown",
   "metadata": {},
   "source": []
  }
 ],
 "metadata": {
  "kernelspec": {
   "display_name": "Python 3",
   "language": "python",
   "name": "python3"
  },
  "language_info": {
   "codemirror_mode": {
    "name": "ipython",
    "version": 3
   },
   "file_extension": ".py",
   "mimetype": "text/x-python",
   "name": "python",
   "nbconvert_exporter": "python",
   "pygments_lexer": "ipython3",
   "version": "3.7.3"
  }
 },
 "nbformat": 4,
 "nbformat_minor": 2
}
