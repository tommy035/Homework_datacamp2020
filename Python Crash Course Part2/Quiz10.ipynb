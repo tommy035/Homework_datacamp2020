{
 "cells": [
  {
   "cell_type": "code",
   "execution_count": 2,
   "metadata": {},
   "outputs": [
    {
     "name": "stdout",
     "output_type": "stream",
     "text": [
      "enter food price1: 1000\n",
      "enter food price2: 2000\n",
      "enter food price3: 5000\n",
      "enter food price4: 1000\n",
      "Do u have credit card? y/n: y\n",
      "food price4=  712.5\n"
     ]
    }
   ],
   "source": [
    "a = int(input(\"enter food price1: \"))\n",
    "b = int(input(\"enter food price2: \"))\n",
    "c = int(input(\"enter food price3: \"))\n",
    "d = int(input(\"enter food price4: \"))\n",
    "while a not in range(1000,5001) or b not in range(1000,5001) or c not in range(1000,5001) or d not in range(1000,5001) :\n",
    "    print('ใส่ค่าfood priceใหม่')\n",
    "    a = int(input(\"enter food price1: \"))\n",
    "    b = int(input(\"enter food price2: \"))\n",
    "    c = int(input(\"enter food price3: \"))\n",
    "    d = int(input(\"enter food price4: \"))    \n",
    "sum = a+b+c\n",
    "x = input('Do u have credit card? y/n: ')\n",
    "if x == 'n':\n",
    "    if sum > 9000:\n",
    "        print('food price4= ', d*0.70)\n",
    "    elif sum > 4000:\n",
    "        print('food price4= ', d*0.75)\n",
    "    else:\n",
    "        print('subtotal food price4= ', d)\n",
    "if x =='y':\n",
    "    if sum > 9000:\n",
    "        print('food price4= ', d*0.70*0.95)\n",
    "    elif sum > 4000:\n",
    "        print('food price4= ', d*0.75*0.95)\n",
    "    else:\n",
    "        print('subtotal food price4= ', d*0.95)"
   ]
  },
  {
   "cell_type": "code",
   "execution_count": null,
   "metadata": {},
   "outputs": [],
   "source": []
  }
 ],
 "metadata": {
  "kernelspec": {
   "display_name": "Python 3",
   "language": "python",
   "name": "python3"
  },
  "language_info": {
   "codemirror_mode": {
    "name": "ipython",
    "version": 3
   },
   "file_extension": ".py",
   "mimetype": "text/x-python",
   "name": "python",
   "nbconvert_exporter": "python",
   "pygments_lexer": "ipython3",
   "version": "3.7.3"
  }
 },
 "nbformat": 4,
 "nbformat_minor": 2
}
