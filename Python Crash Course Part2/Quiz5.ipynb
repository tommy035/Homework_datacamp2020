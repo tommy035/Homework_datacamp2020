{
 "cells": [
  {
   "cell_type": "code",
   "execution_count": 3,
   "metadata": {},
   "outputs": [
    {
     "name": "stdout",
     "output_type": "stream",
     "text": [
      "enter an integer: 2\n",
      "enter an integer: 3\n",
      "enter an integer: 7\n",
      "ไม่สามารถสร้างสามเหลี่ยมมุมฉากได้\n"
     ]
    }
   ],
   "source": [
    "x = int(input(\"enter an integer: \"))\n",
    "y = int(input(\"enter an integer: \"))\n",
    "z = int(input(\"enter an integer: \"))\n",
    "if (x**2 + y**2) == z**2 or (x**2 + z**2) == y**2 or (y**2 + z**2) == x**2 :\n",
    "    print('สร้างสามเหลี่ยมมุมฉากได้')\n",
    "else:\n",
    "    print('ไม่สามารถสร้างสามเหลี่ยมมุมฉากได้')\n"
   ]
  },
  {
   "cell_type": "code",
   "execution_count": null,
   "metadata": {},
   "outputs": [],
   "source": []
  }
 ],
 "metadata": {
  "kernelspec": {
   "display_name": "Python 3",
   "language": "python",
   "name": "python3"
  },
  "language_info": {
   "codemirror_mode": {
    "name": "ipython",
    "version": 3
   },
   "file_extension": ".py",
   "mimetype": "text/x-python",
   "name": "python",
   "nbconvert_exporter": "python",
   "pygments_lexer": "ipython3",
   "version": "3.7.3"
  }
 },
 "nbformat": 4,
 "nbformat_minor": 2
}
