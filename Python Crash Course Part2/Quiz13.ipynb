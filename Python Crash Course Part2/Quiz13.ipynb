{
 "cells": [
  {
   "cell_type": "code",
   "execution_count": null,
   "metadata": {},
   "outputs": [
    {
     "name": "stdout",
     "output_type": "stream",
     "text": [
      "hour: 45\n",
      "minute: 67\n",
      "hour and minute must be in range 0-60\n",
      "hour: 45\n",
      "minute: 55\n",
      "fee= 6860\n"
     ]
    }
   ],
   "source": [
    "temp = True\n",
    "while temp:\n",
    "    a = int(input(\"hour: \"))\n",
    "    b = int(input(\"minute: \"))\n",
    "    if a in range(0,61) and b in range(0,61):\n",
    "        print(\"fee=\", a*150 + b*2)\n",
    "    else:\n",
    "        print(\"hour and minute must be in range 0-60\")\n",
    "    "
   ]
  },
  {
   "cell_type": "code",
   "execution_count": null,
   "metadata": {},
   "outputs": [],
   "source": []
  }
 ],
 "metadata": {
  "kernelspec": {
   "display_name": "Python 3",
   "language": "python",
   "name": "python3"
  },
  "language_info": {
   "codemirror_mode": {
    "name": "ipython",
    "version": 3
   },
   "file_extension": ".py",
   "mimetype": "text/x-python",
   "name": "python",
   "nbconvert_exporter": "python",
   "pygments_lexer": "ipython3",
   "version": "3.7.3"
  }
 },
 "nbformat": 4,
 "nbformat_minor": 2
}
