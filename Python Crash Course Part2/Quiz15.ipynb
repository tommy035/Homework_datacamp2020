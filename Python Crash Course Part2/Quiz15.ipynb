{
 "cells": [
  {
   "cell_type": "markdown",
   "metadata": {},
   "source": [
    "## given bird = x, cow = y\n",
    "### number of head = a = x + y --> 2a = 2x + 2y\n",
    "### number of leg = b = 2x + 4y\n",
    "### so, b - 2a = 2y --> y = b/2 - a\n",
    "### and x = a - y = a - (b/2 - a) = 2a - b/2"
   ]
  },
  {
   "cell_type": "code",
   "execution_count": 10,
   "metadata": {},
   "outputs": [
    {
     "name": "stdout",
     "output_type": "stream",
     "text": [
      "number of head: 2\n",
      "number of leg: 4\n",
      "tax= 300.0\n"
     ]
    }
   ],
   "source": [
    "a = int(input(\"number of head: \"))\n",
    "b = int(input(\"number of leg: \"))\n",
    "tax = 150*(2*a - b/2) + 220*(b/2-a)\n",
    "print(\"tax=\", tax)\n"
   ]
  },
  {
   "cell_type": "code",
   "execution_count": null,
   "metadata": {},
   "outputs": [],
   "source": []
  }
 ],
 "metadata": {
  "kernelspec": {
   "display_name": "Python 3",
   "language": "python",
   "name": "python3"
  },
  "language_info": {
   "codemirror_mode": {
    "name": "ipython",
    "version": 3
   },
   "file_extension": ".py",
   "mimetype": "text/x-python",
   "name": "python",
   "nbconvert_exporter": "python",
   "pygments_lexer": "ipython3",
   "version": "3.7.3"
  }
 },
 "nbformat": 4,
 "nbformat_minor": 2
}
