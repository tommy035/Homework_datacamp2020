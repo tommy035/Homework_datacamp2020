{
 "cells": [
  {
   "cell_type": "code",
   "execution_count": 1,
   "metadata": {},
   "outputs": [
    {
     "name": "stdout",
     "output_type": "stream",
     "text": [
      "enter food price1: 4000\n",
      "enter food price2: 2334\n",
      "enter food price3: 2500\n",
      "discounted food prices=  7508.9\n"
     ]
    }
   ],
   "source": [
    "x = int(input(\"enter food price1: \"))\n",
    "y = int(input(\"enter food price2: \"))\n",
    "z = int(input(\"enter food price3: \"))\n",
    "while x not in range(1000,5001) or y not in range(1000,5001) or z not in range(1000,5001):\n",
    "    print('ใส่ค่าfood priceใหม่')\n",
    "    x = int(input(\"enter food price1: \"))\n",
    "    y = int(input(\"enter food price2: \"))\n",
    "    z = int(input(\"enter food price3: \"))\n",
    "sum = x+y+z\n",
    "if sum > 12000:\n",
    "    print('discounted food prices= ', sum*0.75)\n",
    "elif sum > 6000:\n",
    "    print('discounted food prices= ', sum*0.85)\n",
    "else:\n",
    "    print('total food prices= ', sum)"
   ]
  },
  {
   "cell_type": "code",
   "execution_count": null,
   "metadata": {},
   "outputs": [],
   "source": [
    "\n"
   ]
  },
  {
   "cell_type": "code",
   "execution_count": null,
   "metadata": {},
   "outputs": [],
   "source": []
  }
 ],
 "metadata": {
  "kernelspec": {
   "display_name": "Python 3",
   "language": "python",
   "name": "python3"
  },
  "language_info": {
   "codemirror_mode": {
    "name": "ipython",
    "version": 3
   },
   "file_extension": ".py",
   "mimetype": "text/x-python",
   "name": "python",
   "nbconvert_exporter": "python",
   "pygments_lexer": "ipython3",
   "version": "3.7.3"
  }
 },
 "nbformat": 4,
 "nbformat_minor": 2
}
