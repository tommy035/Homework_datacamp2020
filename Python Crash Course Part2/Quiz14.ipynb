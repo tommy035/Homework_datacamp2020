{
 "cells": [
  {
   "cell_type": "code",
   "execution_count": null,
   "metadata": {},
   "outputs": [
    {
     "name": "stdout",
     "output_type": "stream",
     "text": [
      "hour: 3\n",
      "minute: 16\n",
      "fee= 1200\n",
      "hour: 2\n",
      "minute: 2\n",
      "fee= 600\n",
      "hour: 2\n",
      "minute: 70\n",
      "hour and minute must be in range 0-60\n"
     ]
    }
   ],
   "source": [
    "temp = True\n",
    "while temp:\n",
    "    a = int(input(\"hour: \"))\n",
    "    b = int(input(\"minute: \"))\n",
    "    if a in range(0,61) and b in range(0,61):\n",
    "        total_time = a*60 + b\n",
    "        if total_time <= 60:\n",
    "            print(\"no fee\")\n",
    "        elif b <= 15:\n",
    "            x = a*300\n",
    "            print(\"fee=\", x)\n",
    "        else:\n",
    "            y = (a+1)*300\n",
    "            print(\"fee=\", y)\n",
    "    else:\n",
    "        print(\"hour and minute must be in range 0-60\")"
   ]
  },
  {
   "cell_type": "code",
   "execution_count": null,
   "metadata": {},
   "outputs": [],
   "source": []
  }
 ],
 "metadata": {
  "kernelspec": {
   "display_name": "Python 3",
   "language": "python",
   "name": "python3"
  },
  "language_info": {
   "codemirror_mode": {
    "name": "ipython",
    "version": 3
   },
   "file_extension": ".py",
   "mimetype": "text/x-python",
   "name": "python",
   "nbconvert_exporter": "python",
   "pygments_lexer": "ipython3",
   "version": "3.7.3"
  }
 },
 "nbformat": 4,
 "nbformat_minor": 2
}
