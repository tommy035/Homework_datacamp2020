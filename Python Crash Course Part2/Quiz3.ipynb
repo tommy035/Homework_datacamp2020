{
 "cells": [
  {
   "cell_type": "code",
   "execution_count": 1,
   "metadata": {},
   "outputs": [
    {
     "name": "stdout",
     "output_type": "stream",
     "text": [
      "enter a number: 4\n",
      "enter a number: 4\n",
      "enter a number: 4\n",
      "enter a number: 8\n",
      "enter a number: 0\n",
      "mean=  5.0\n"
     ]
    }
   ],
   "source": [
    "x = float(input('enter a number: '))\n",
    "n = 0\n",
    "sum = 0\n",
    "if x ==0:\n",
    "    print(\"mean= 0\")\n",
    "while x!= 0:\n",
    "    sum += x\n",
    "    n += 1\n",
    "    x = float(input('enter a number: '))\n",
    "mean = sum/n\n",
    "print(\"mean= \", mean)"
   ]
  },
  {
   "cell_type": "code",
   "execution_count": null,
   "metadata": {},
   "outputs": [],
   "source": []
  },
  {
   "cell_type": "code",
   "execution_count": null,
   "metadata": {},
   "outputs": [],
   "source": []
  }
 ],
 "metadata": {
  "kernelspec": {
   "display_name": "Python 3",
   "language": "python",
   "name": "python3"
  },
  "language_info": {
   "codemirror_mode": {
    "name": "ipython",
    "version": 3
   },
   "file_extension": ".py",
   "mimetype": "text/x-python",
   "name": "python",
   "nbconvert_exporter": "python",
   "pygments_lexer": "ipython3",
   "version": "3.7.3"
  }
 },
 "nbformat": 4,
 "nbformat_minor": 2
}
