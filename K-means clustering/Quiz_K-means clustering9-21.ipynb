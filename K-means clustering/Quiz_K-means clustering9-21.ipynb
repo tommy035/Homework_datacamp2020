{
 "cells": [
  {
   "cell_type": "code",
   "execution_count": 1,
   "metadata": {},
   "outputs": [],
   "source": [
    "import numpy as np\n",
    "import pandas as pd\n",
    "import matplotlib.pyplot as plt\n",
    "import seaborn as sns\n",
    "%matplotlib inline"
   ]
  },
  {
   "cell_type": "code",
   "execution_count": 2,
   "metadata": {},
   "outputs": [
    {
     "data": {
      "text/html": [
       "<div>\n",
       "<style scoped>\n",
       "    .dataframe tbody tr th:only-of-type {\n",
       "        vertical-align: middle;\n",
       "    }\n",
       "\n",
       "    .dataframe tbody tr th {\n",
       "        vertical-align: top;\n",
       "    }\n",
       "\n",
       "    .dataframe thead th {\n",
       "        text-align: right;\n",
       "    }\n",
       "</style>\n",
       "<table border=\"1\" class=\"dataframe\">\n",
       "  <thead>\n",
       "    <tr style=\"text-align: right;\">\n",
       "      <th></th>\n",
       "      <th>STG</th>\n",
       "      <th>SCG</th>\n",
       "      <th>STR</th>\n",
       "      <th>LPR</th>\n",
       "      <th>PEG</th>\n",
       "      <th>UNS</th>\n",
       "    </tr>\n",
       "  </thead>\n",
       "  <tbody>\n",
       "    <tr>\n",
       "      <th>0</th>\n",
       "      <td>0.00</td>\n",
       "      <td>0.00</td>\n",
       "      <td>0.00</td>\n",
       "      <td>0.00</td>\n",
       "      <td>0.00</td>\n",
       "      <td>very_low</td>\n",
       "    </tr>\n",
       "    <tr>\n",
       "      <th>1</th>\n",
       "      <td>0.08</td>\n",
       "      <td>0.08</td>\n",
       "      <td>0.10</td>\n",
       "      <td>0.24</td>\n",
       "      <td>0.90</td>\n",
       "      <td>High</td>\n",
       "    </tr>\n",
       "    <tr>\n",
       "      <th>2</th>\n",
       "      <td>0.06</td>\n",
       "      <td>0.06</td>\n",
       "      <td>0.05</td>\n",
       "      <td>0.25</td>\n",
       "      <td>0.33</td>\n",
       "      <td>Low</td>\n",
       "    </tr>\n",
       "    <tr>\n",
       "      <th>3</th>\n",
       "      <td>0.10</td>\n",
       "      <td>0.10</td>\n",
       "      <td>0.15</td>\n",
       "      <td>0.65</td>\n",
       "      <td>0.30</td>\n",
       "      <td>Middle</td>\n",
       "    </tr>\n",
       "    <tr>\n",
       "      <th>4</th>\n",
       "      <td>0.08</td>\n",
       "      <td>0.08</td>\n",
       "      <td>0.08</td>\n",
       "      <td>0.98</td>\n",
       "      <td>0.24</td>\n",
       "      <td>Low</td>\n",
       "    </tr>\n",
       "    <tr>\n",
       "      <th>...</th>\n",
       "      <td>...</td>\n",
       "      <td>...</td>\n",
       "      <td>...</td>\n",
       "      <td>...</td>\n",
       "      <td>...</td>\n",
       "      <td>...</td>\n",
       "    </tr>\n",
       "    <tr>\n",
       "      <th>253</th>\n",
       "      <td>0.61</td>\n",
       "      <td>0.78</td>\n",
       "      <td>0.69</td>\n",
       "      <td>0.92</td>\n",
       "      <td>0.58</td>\n",
       "      <td>High</td>\n",
       "    </tr>\n",
       "    <tr>\n",
       "      <th>254</th>\n",
       "      <td>0.78</td>\n",
       "      <td>0.61</td>\n",
       "      <td>0.71</td>\n",
       "      <td>0.19</td>\n",
       "      <td>0.60</td>\n",
       "      <td>Middle</td>\n",
       "    </tr>\n",
       "    <tr>\n",
       "      <th>255</th>\n",
       "      <td>0.54</td>\n",
       "      <td>0.82</td>\n",
       "      <td>0.71</td>\n",
       "      <td>0.29</td>\n",
       "      <td>0.77</td>\n",
       "      <td>High</td>\n",
       "    </tr>\n",
       "    <tr>\n",
       "      <th>256</th>\n",
       "      <td>0.50</td>\n",
       "      <td>0.75</td>\n",
       "      <td>0.81</td>\n",
       "      <td>0.61</td>\n",
       "      <td>0.26</td>\n",
       "      <td>Middle</td>\n",
       "    </tr>\n",
       "    <tr>\n",
       "      <th>257</th>\n",
       "      <td>0.66</td>\n",
       "      <td>0.90</td>\n",
       "      <td>0.76</td>\n",
       "      <td>0.87</td>\n",
       "      <td>0.74</td>\n",
       "      <td>High</td>\n",
       "    </tr>\n",
       "  </tbody>\n",
       "</table>\n",
       "<p>258 rows × 6 columns</p>\n",
       "</div>"
      ],
      "text/plain": [
       "      STG   SCG   STR   LPR   PEG       UNS\n",
       "0    0.00  0.00  0.00  0.00  0.00  very_low\n",
       "1    0.08  0.08  0.10  0.24  0.90      High\n",
       "2    0.06  0.06  0.05  0.25  0.33       Low\n",
       "3    0.10  0.10  0.15  0.65  0.30    Middle\n",
       "4    0.08  0.08  0.08  0.98  0.24       Low\n",
       "..    ...   ...   ...   ...   ...       ...\n",
       "253  0.61  0.78  0.69  0.92  0.58      High\n",
       "254  0.78  0.61  0.71  0.19  0.60    Middle\n",
       "255  0.54  0.82  0.71  0.29  0.77      High\n",
       "256  0.50  0.75  0.81  0.61  0.26    Middle\n",
       "257  0.66  0.90  0.76  0.87  0.74      High\n",
       "\n",
       "[258 rows x 6 columns]"
      ]
     },
     "execution_count": 2,
     "metadata": {},
     "output_type": "execute_result"
    }
   ],
   "source": [
    "df = pd.read_csv('data_student.csv')\n",
    "df"
   ]
  },
  {
   "cell_type": "code",
   "execution_count": 3,
   "metadata": {},
   "outputs": [
    {
     "data": {
      "text/html": [
       "<div>\n",
       "<style scoped>\n",
       "    .dataframe tbody tr th:only-of-type {\n",
       "        vertical-align: middle;\n",
       "    }\n",
       "\n",
       "    .dataframe tbody tr th {\n",
       "        vertical-align: top;\n",
       "    }\n",
       "\n",
       "    .dataframe thead th {\n",
       "        text-align: right;\n",
       "    }\n",
       "</style>\n",
       "<table border=\"1\" class=\"dataframe\">\n",
       "  <thead>\n",
       "    <tr style=\"text-align: right;\">\n",
       "      <th></th>\n",
       "      <th>STG</th>\n",
       "      <th>SCG</th>\n",
       "      <th>STR</th>\n",
       "      <th>LPR</th>\n",
       "      <th>PEG</th>\n",
       "    </tr>\n",
       "  </thead>\n",
       "  <tbody>\n",
       "    <tr>\n",
       "      <th>0</th>\n",
       "      <td>0.00</td>\n",
       "      <td>0.00</td>\n",
       "      <td>0.00</td>\n",
       "      <td>0.00</td>\n",
       "      <td>0.00</td>\n",
       "    </tr>\n",
       "    <tr>\n",
       "      <th>1</th>\n",
       "      <td>0.08</td>\n",
       "      <td>0.08</td>\n",
       "      <td>0.10</td>\n",
       "      <td>0.24</td>\n",
       "      <td>0.90</td>\n",
       "    </tr>\n",
       "    <tr>\n",
       "      <th>2</th>\n",
       "      <td>0.06</td>\n",
       "      <td>0.06</td>\n",
       "      <td>0.05</td>\n",
       "      <td>0.25</td>\n",
       "      <td>0.33</td>\n",
       "    </tr>\n",
       "    <tr>\n",
       "      <th>3</th>\n",
       "      <td>0.10</td>\n",
       "      <td>0.10</td>\n",
       "      <td>0.15</td>\n",
       "      <td>0.65</td>\n",
       "      <td>0.30</td>\n",
       "    </tr>\n",
       "    <tr>\n",
       "      <th>4</th>\n",
       "      <td>0.08</td>\n",
       "      <td>0.08</td>\n",
       "      <td>0.08</td>\n",
       "      <td>0.98</td>\n",
       "      <td>0.24</td>\n",
       "    </tr>\n",
       "    <tr>\n",
       "      <th>...</th>\n",
       "      <td>...</td>\n",
       "      <td>...</td>\n",
       "      <td>...</td>\n",
       "      <td>...</td>\n",
       "      <td>...</td>\n",
       "    </tr>\n",
       "    <tr>\n",
       "      <th>253</th>\n",
       "      <td>0.61</td>\n",
       "      <td>0.78</td>\n",
       "      <td>0.69</td>\n",
       "      <td>0.92</td>\n",
       "      <td>0.58</td>\n",
       "    </tr>\n",
       "    <tr>\n",
       "      <th>254</th>\n",
       "      <td>0.78</td>\n",
       "      <td>0.61</td>\n",
       "      <td>0.71</td>\n",
       "      <td>0.19</td>\n",
       "      <td>0.60</td>\n",
       "    </tr>\n",
       "    <tr>\n",
       "      <th>255</th>\n",
       "      <td>0.54</td>\n",
       "      <td>0.82</td>\n",
       "      <td>0.71</td>\n",
       "      <td>0.29</td>\n",
       "      <td>0.77</td>\n",
       "    </tr>\n",
       "    <tr>\n",
       "      <th>256</th>\n",
       "      <td>0.50</td>\n",
       "      <td>0.75</td>\n",
       "      <td>0.81</td>\n",
       "      <td>0.61</td>\n",
       "      <td>0.26</td>\n",
       "    </tr>\n",
       "    <tr>\n",
       "      <th>257</th>\n",
       "      <td>0.66</td>\n",
       "      <td>0.90</td>\n",
       "      <td>0.76</td>\n",
       "      <td>0.87</td>\n",
       "      <td>0.74</td>\n",
       "    </tr>\n",
       "  </tbody>\n",
       "</table>\n",
       "<p>258 rows × 5 columns</p>\n",
       "</div>"
      ],
      "text/plain": [
       "      STG   SCG   STR   LPR   PEG\n",
       "0    0.00  0.00  0.00  0.00  0.00\n",
       "1    0.08  0.08  0.10  0.24  0.90\n",
       "2    0.06  0.06  0.05  0.25  0.33\n",
       "3    0.10  0.10  0.15  0.65  0.30\n",
       "4    0.08  0.08  0.08  0.98  0.24\n",
       "..    ...   ...   ...   ...   ...\n",
       "253  0.61  0.78  0.69  0.92  0.58\n",
       "254  0.78  0.61  0.71  0.19  0.60\n",
       "255  0.54  0.82  0.71  0.29  0.77\n",
       "256  0.50  0.75  0.81  0.61  0.26\n",
       "257  0.66  0.90  0.76  0.87  0.74\n",
       "\n",
       "[258 rows x 5 columns]"
      ]
     },
     "execution_count": 3,
     "metadata": {},
     "output_type": "execute_result"
    }
   ],
   "source": [
    "df = df.iloc[:,:-1]\n",
    "df"
   ]
  },
  {
   "cell_type": "code",
   "execution_count": 4,
   "metadata": {},
   "outputs": [
    {
     "data": {
      "text/plain": [
       "array([[0.        , 0.        , 0.        , 0.        , 0.        ],\n",
       "       [0.08080808, 0.08888889, 0.10526316, 0.24242424, 0.96774194],\n",
       "       [0.06060606, 0.06666667, 0.05263158, 0.25252525, 0.35483871],\n",
       "       ...,\n",
       "       [0.54545455, 0.91111111, 0.74736842, 0.29292929, 0.82795699],\n",
       "       [0.50505051, 0.83333333, 0.85263158, 0.61616162, 0.27956989],\n",
       "       [0.66666667, 1.        , 0.8       , 0.87878788, 0.79569892]])"
      ]
     },
     "execution_count": 4,
     "metadata": {},
     "output_type": "execute_result"
    }
   ],
   "source": [
    "# Normalization\n",
    "from sklearn.preprocessing import MinMaxScaler\n",
    "min_max_scaler = MinMaxScaler()\n",
    "\n",
    "df_scaled = min_max_scaler.fit_transform(df)\n",
    "df_scaled"
   ]
  },
  {
   "cell_type": "code",
   "execution_count": 5,
   "metadata": {},
   "outputs": [
    {
     "data": {
      "text/html": [
       "<div>\n",
       "<style scoped>\n",
       "    .dataframe tbody tr th:only-of-type {\n",
       "        vertical-align: middle;\n",
       "    }\n",
       "\n",
       "    .dataframe tbody tr th {\n",
       "        vertical-align: top;\n",
       "    }\n",
       "\n",
       "    .dataframe thead th {\n",
       "        text-align: right;\n",
       "    }\n",
       "</style>\n",
       "<table border=\"1\" class=\"dataframe\">\n",
       "  <thead>\n",
       "    <tr style=\"text-align: right;\">\n",
       "      <th></th>\n",
       "      <th>STG</th>\n",
       "      <th>SCG</th>\n",
       "      <th>STR</th>\n",
       "      <th>LPR</th>\n",
       "      <th>PEG</th>\n",
       "    </tr>\n",
       "  </thead>\n",
       "  <tbody>\n",
       "    <tr>\n",
       "      <th>0</th>\n",
       "      <td>0.000000</td>\n",
       "      <td>0.000000</td>\n",
       "      <td>0.000000</td>\n",
       "      <td>0.000000</td>\n",
       "      <td>0.000000</td>\n",
       "    </tr>\n",
       "    <tr>\n",
       "      <th>1</th>\n",
       "      <td>0.080808</td>\n",
       "      <td>0.088889</td>\n",
       "      <td>0.105263</td>\n",
       "      <td>0.242424</td>\n",
       "      <td>0.967742</td>\n",
       "    </tr>\n",
       "    <tr>\n",
       "      <th>2</th>\n",
       "      <td>0.060606</td>\n",
       "      <td>0.066667</td>\n",
       "      <td>0.052632</td>\n",
       "      <td>0.252525</td>\n",
       "      <td>0.354839</td>\n",
       "    </tr>\n",
       "    <tr>\n",
       "      <th>3</th>\n",
       "      <td>0.101010</td>\n",
       "      <td>0.111111</td>\n",
       "      <td>0.157895</td>\n",
       "      <td>0.656566</td>\n",
       "      <td>0.322581</td>\n",
       "    </tr>\n",
       "    <tr>\n",
       "      <th>4</th>\n",
       "      <td>0.080808</td>\n",
       "      <td>0.088889</td>\n",
       "      <td>0.084211</td>\n",
       "      <td>0.989899</td>\n",
       "      <td>0.258065</td>\n",
       "    </tr>\n",
       "    <tr>\n",
       "      <th>...</th>\n",
       "      <td>...</td>\n",
       "      <td>...</td>\n",
       "      <td>...</td>\n",
       "      <td>...</td>\n",
       "      <td>...</td>\n",
       "    </tr>\n",
       "    <tr>\n",
       "      <th>253</th>\n",
       "      <td>0.616162</td>\n",
       "      <td>0.866667</td>\n",
       "      <td>0.726316</td>\n",
       "      <td>0.929293</td>\n",
       "      <td>0.623656</td>\n",
       "    </tr>\n",
       "    <tr>\n",
       "      <th>254</th>\n",
       "      <td>0.787879</td>\n",
       "      <td>0.677778</td>\n",
       "      <td>0.747368</td>\n",
       "      <td>0.191919</td>\n",
       "      <td>0.645161</td>\n",
       "    </tr>\n",
       "    <tr>\n",
       "      <th>255</th>\n",
       "      <td>0.545455</td>\n",
       "      <td>0.911111</td>\n",
       "      <td>0.747368</td>\n",
       "      <td>0.292929</td>\n",
       "      <td>0.827957</td>\n",
       "    </tr>\n",
       "    <tr>\n",
       "      <th>256</th>\n",
       "      <td>0.505051</td>\n",
       "      <td>0.833333</td>\n",
       "      <td>0.852632</td>\n",
       "      <td>0.616162</td>\n",
       "      <td>0.279570</td>\n",
       "    </tr>\n",
       "    <tr>\n",
       "      <th>257</th>\n",
       "      <td>0.666667</td>\n",
       "      <td>1.000000</td>\n",
       "      <td>0.800000</td>\n",
       "      <td>0.878788</td>\n",
       "      <td>0.795699</td>\n",
       "    </tr>\n",
       "  </tbody>\n",
       "</table>\n",
       "<p>258 rows × 5 columns</p>\n",
       "</div>"
      ],
      "text/plain": [
       "          STG       SCG       STR       LPR       PEG\n",
       "0    0.000000  0.000000  0.000000  0.000000  0.000000\n",
       "1    0.080808  0.088889  0.105263  0.242424  0.967742\n",
       "2    0.060606  0.066667  0.052632  0.252525  0.354839\n",
       "3    0.101010  0.111111  0.157895  0.656566  0.322581\n",
       "4    0.080808  0.088889  0.084211  0.989899  0.258065\n",
       "..        ...       ...       ...       ...       ...\n",
       "253  0.616162  0.866667  0.726316  0.929293  0.623656\n",
       "254  0.787879  0.677778  0.747368  0.191919  0.645161\n",
       "255  0.545455  0.911111  0.747368  0.292929  0.827957\n",
       "256  0.505051  0.833333  0.852632  0.616162  0.279570\n",
       "257  0.666667  1.000000  0.800000  0.878788  0.795699\n",
       "\n",
       "[258 rows x 5 columns]"
      ]
     },
     "execution_count": 5,
     "metadata": {},
     "output_type": "execute_result"
    }
   ],
   "source": [
    "df = pd.DataFrame(data=df_scaled, columns = df.columns)\n",
    "df"
   ]
  },
  {
   "cell_type": "code",
   "execution_count": 6,
   "metadata": {},
   "outputs": [
    {
     "data": {
      "text/plain": [
       "array([[0.        , 0.        ],\n",
       "       [0.08080808, 0.96774194],\n",
       "       [0.06060606, 0.35483871],\n",
       "       [0.1010101 , 0.32258065],\n",
       "       [0.08080808, 0.25806452],\n",
       "       [0.09090909, 0.70967742],\n",
       "       [0.1010101 , 0.60215054],\n",
       "       [0.15151515, 0.01075269],\n",
       "       [0.2020202 , 0.2688172 ],\n",
       "       [0.        , 0.91397849],\n",
       "       [0.18181818, 0.87096774],\n",
       "       [0.06060606, 0.32258065],\n",
       "       [0.1010101 , 0.3655914 ],\n",
       "       [0.1010101 , 0.96774194],\n",
       "       [0.2020202 , 0.64516129],\n",
       "       [0.12121212, 0.86021505],\n",
       "       [0.05050505, 0.05376344],\n",
       "       [0.1010101 , 0.35483871],\n",
       "       [0.15151515, 0.31182796],\n",
       "       [0.2020202 , 0.60215054],\n",
       "       [0.12121212, 0.21505376],\n",
       "       [0.18181818, 0.70967742],\n",
       "       [0.1010101 , 0.69892473],\n",
       "       [0.18181818, 0.30107527],\n",
       "       [0.06060606, 0.2688172 ],\n",
       "       [0.09090909, 0.91397849],\n",
       "       [0.04040404, 0.10752688],\n",
       "       [0.09090909, 0.2688172 ],\n",
       "       [0.08080808, 0.60215054],\n",
       "       [0.15151515, 0.87096774],\n",
       "       [0.12121212, 0.6344086 ],\n",
       "       [0.15151515, 0.25806452],\n",
       "       [0.1010101 , 0.17204301],\n",
       "       [0.18181818, 0.88172043],\n",
       "       [0.2020202 , 0.83870968],\n",
       "       [0.06060606, 0.31182796],\n",
       "       [0.1010101 , 0.27956989],\n",
       "       [0.18181818, 0.35483871],\n",
       "       [0.09090909, 0.        ],\n",
       "       [0.19191919, 0.48387097],\n",
       "       [0.02020202, 0.10752688],\n",
       "       [0.2020202 , 0.83870968],\n",
       "       [0.14141414, 0.64516129],\n",
       "       [0.18181818, 0.2688172 ],\n",
       "       [0.11616162, 0.04301075],\n",
       "       [0.17171717, 0.70967742],\n",
       "       [0.1010101 , 0.66666667],\n",
       "       [0.13131313, 0.82795699],\n",
       "       [0.18181818, 0.96774194],\n",
       "       [0.09090909, 0.72043011],\n",
       "       [0.06060606, 0.2688172 ],\n",
       "       [0.23232323, 0.48387097],\n",
       "       [0.09090909, 0.05376344],\n",
       "       [0.24242424, 0.92473118],\n",
       "       [0.18181818, 0.59139785],\n",
       "       [0.1010101 , 0.27956989],\n",
       "       [0.2020202 , 0.2688172 ],\n",
       "       [0.09090909, 0.6344086 ],\n",
       "       [0.18181818, 0.88172043],\n",
       "       [0.08080808, 0.10752688],\n",
       "       [0.09090909, 0.01075269],\n",
       "       [0.06060606, 0.60215054],\n",
       "       [0.15151515, 0.5483871 ],\n",
       "       [0.2020202 , 0.30107527],\n",
       "       [0.24242424, 0.30107527],\n",
       "       [0.25252525, 0.16129032],\n",
       "       [0.32323232, 0.25806452],\n",
       "       [0.29292929, 0.5483871 ],\n",
       "       [0.28282828, 0.34408602],\n",
       "       [0.3030303 , 0.72043011],\n",
       "       [0.27272727, 0.62365591],\n",
       "       [0.31313131, 0.80645161],\n",
       "       [0.29292929, 0.08602151],\n",
       "       [0.3030303 , 0.56989247],\n",
       "       [0.28282828, 0.83870968],\n",
       "       [0.25757576, 0.10752688],\n",
       "       [0.26767677, 0.10752688],\n",
       "       [0.27777778, 0.32258065],\n",
       "       [0.24747475, 0.21505376],\n",
       "       [0.2979798 , 0.30107527],\n",
       "       [0.32323232, 0.25806452],\n",
       "       [0.2979798 , 0.72043011],\n",
       "       [0.31818182, 0.66666667],\n",
       "       [0.25252525, 0.27956989],\n",
       "       [0.27272727, 0.2688172 ],\n",
       "       [0.25050505, 0.03225806],\n",
       "       [0.32828283, 0.84946237],\n",
       "       [0.27272727, 0.30107527],\n",
       "       [0.29292929, 0.19354839],\n",
       "       [0.29292929, 0.72043011],\n",
       "       [0.26060606, 0.60215054],\n",
       "       [0.32323232, 0.3655914 ],\n",
       "       [0.25353535, 0.09677419],\n",
       "       [0.29090909, 0.25806452],\n",
       "       [0.32626263, 0.86021505],\n",
       "       [0.25757576, 0.16129032],\n",
       "       [0.2979798 , 0.20430108],\n",
       "       [0.26060606, 0.82795699],\n",
       "       [0.29292929, 0.61290323],\n",
       "       [0.24545455, 0.31182796],\n",
       "       [0.27272727, 0.27956989],\n",
       "       [0.3020202 , 0.93548387],\n",
       "       [0.3030303 , 0.58064516],\n",
       "       [0.24747475, 0.29032258],\n",
       "       [0.2979798 , 0.10752688],\n",
       "       [0.29292929, 0.72043011],\n",
       "       [0.26262626, 0.6344086 ],\n",
       "       [0.30808081, 0.58064516],\n",
       "       [0.32323232, 0.32258065],\n",
       "       [0.3020202 , 0.90322581],\n",
       "       [0.27878788, 0.35483871],\n",
       "       [0.26060606, 0.32258065],\n",
       "       [0.32323232, 0.62365591],\n",
       "       [0.33232323, 0.84946237],\n",
       "       [0.2979798 , 0.59139785],\n",
       "       [0.28787879, 0.48387097],\n",
       "       [0.26767677, 0.07526882],\n",
       "       [0.31818182, 0.75268817],\n",
       "       [0.28282828, 0.70967742],\n",
       "       [0.32828283, 0.87096774],\n",
       "       [0.28282828, 0.13978495],\n",
       "       [0.25757576, 0.2688172 ],\n",
       "       [0.30808081, 0.35806452],\n",
       "       [0.3030303 , 0.89247312],\n",
       "       [0.32828283, 0.8172043 ],\n",
       "       [0.31515152, 0.53763441],\n",
       "       [0.3020202 , 0.70967742],\n",
       "       [0.26767677, 0.30107527],\n",
       "       [0.25757576, 0.15053763],\n",
       "       [0.2979798 , 0.30107527],\n",
       "       [0.39393939, 0.3655914 ],\n",
       "       [0.4040404 , 0.72043011],\n",
       "       [0.45454545, 0.07526882],\n",
       "       [0.48484848, 0.76344086],\n",
       "       [0.4040404 , 0.69892473],\n",
       "       [0.41414141, 0.53763441],\n",
       "       [0.38383838, 0.27956989],\n",
       "       [0.37373737, 0.10752688],\n",
       "       [0.41414141, 0.62365591],\n",
       "       [0.38383838, 0.32258065],\n",
       "       [0.33333333, 0.10752688],\n",
       "       [0.42424242, 0.43010753],\n",
       "       [0.44444444, 0.60215054],\n",
       "       [0.39393939, 0.31182796],\n",
       "       [0.42424242, 0.51612903],\n",
       "       [0.46464646, 0.69892473],\n",
       "       [0.36868687, 0.37634409],\n",
       "       [0.33333333, 0.10752688],\n",
       "       [0.34848485, 0.13978495],\n",
       "       [0.48484848, 0.82795699],\n",
       "       [0.49494949, 0.92473118],\n",
       "       [0.33737374, 0.32258065],\n",
       "       [0.36363636, 0.13978495],\n",
       "       [0.39393939, 0.15053763],\n",
       "       [0.43434343, 0.68817204],\n",
       "       [0.44444444, 0.55913978],\n",
       "       [0.45454545, 0.5483871 ],\n",
       "       [0.5       , 0.89247312],\n",
       "       [0.46969697, 0.6344086 ],\n",
       "       [0.47979798, 0.58064516],\n",
       "       [0.35151515, 0.19354839],\n",
       "       [0.38888889, 0.32258065],\n",
       "       [0.44949495, 0.94623656],\n",
       "       [0.43434343, 0.95698925],\n",
       "       [0.33333333, 0.12903226],\n",
       "       [0.4040404 , 0.96774194],\n",
       "       [0.34343434, 0.65591398],\n",
       "       [0.38383838, 0.83870968],\n",
       "       [0.35353535, 0.17204301],\n",
       "       [0.41414141, 0.98924731],\n",
       "       [0.42424242, 0.2688172 ],\n",
       "       [0.43434343, 0.52688172],\n",
       "       [0.44444444, 0.91397849],\n",
       "       [0.4040404 , 0.17204301],\n",
       "       [0.46464646, 0.70967742],\n",
       "       [0.38383838, 0.32258065],\n",
       "       [0.39393939, 0.20430108],\n",
       "       [0.49494949, 0.76344086],\n",
       "       [0.46464646, 0.64516129],\n",
       "       [0.44444444, 0.89247312],\n",
       "       [0.36868687, 0.19354839],\n",
       "       [0.45454545, 0.59139785],\n",
       "       [0.46464646, 0.95698925],\n",
       "       [0.37373737, 0.32258065],\n",
       "       [0.38383838, 0.21505376],\n",
       "       [0.49494949, 0.22580645],\n",
       "       [0.5       , 1.        ],\n",
       "       [0.44444444, 0.61290323],\n",
       "       [0.36868687, 0.2688172 ],\n",
       "       [0.49494949, 0.50537634],\n",
       "       [0.44949495, 0.68817204],\n",
       "       [0.42424242, 0.86021505],\n",
       "       [0.37373737, 0.53763441],\n",
       "       [0.4040404 , 0.72043011],\n",
       "       [0.60606061, 0.70967742],\n",
       "       [0.55555556, 0.31182796],\n",
       "       [0.68686869, 0.10752688],\n",
       "       [0.73737374, 0.27956989],\n",
       "       [0.78787879, 0.67741935],\n",
       "       [0.55555556, 0.10752688],\n",
       "       [0.5959596 , 0.09677419],\n",
       "       [0.64646465, 0.53763441],\n",
       "       [0.60606061, 0.10752688],\n",
       "       [0.6969697 , 0.31182796],\n",
       "       [0.78787879, 0.80645161],\n",
       "       [0.62626263, 0.16129032],\n",
       "       [0.70707071, 0.70967742],\n",
       "       [0.75757576, 0.56989247],\n",
       "       [0.55555556, 0.11827957],\n",
       "       [0.85858586, 0.7311828 ],\n",
       "       [0.78787879, 0.66666667],\n",
       "       [0.80808081, 0.5483871 ],\n",
       "       [0.90909091, 0.84946237],\n",
       "       [0.76767677, 0.3655914 ],\n",
       "       [0.72727273, 0.64516129],\n",
       "       [0.60606061, 0.32258065],\n",
       "       [0.52525253, 0.32258065],\n",
       "       [0.60606061, 0.62365591],\n",
       "       [0.51515152, 0.68817204],\n",
       "       [0.58585859, 0.32258065],\n",
       "       [0.61616162, 0.25806452],\n",
       "       [0.77777778, 0.30107527],\n",
       "       [0.7979798 , 0.70967742],\n",
       "       [0.68686869, 0.61290323],\n",
       "       [0.58585859, 0.22580645],\n",
       "       [0.77777778, 0.7311828 ],\n",
       "       [0.71717172, 0.6344086 ],\n",
       "       [0.58585859, 0.33333333],\n",
       "       [0.88888889, 0.83870968],\n",
       "       [1.        , 0.74193548],\n",
       "       [0.73737374, 0.69892473],\n",
       "       [0.61616162, 0.30107527],\n",
       "       [0.51515152, 0.24731183],\n",
       "       [0.83838384, 0.70967742],\n",
       "       [0.66666667, 0.66666667],\n",
       "       [0.58585859, 0.32258065],\n",
       "       [0.52828283, 0.23655914],\n",
       "       [0.66666667, 0.89247312],\n",
       "       [0.62626263, 0.68817204],\n",
       "       [0.52525253, 0.55913978],\n",
       "       [0.50505051, 0.21505376],\n",
       "       [0.71717172, 0.92473118],\n",
       "       [0.64646465, 0.67741935],\n",
       "       [0.52525253, 0.2688172 ],\n",
       "       [0.62626263, 0.2688172 ],\n",
       "       [0.91919192, 0.94623656],\n",
       "       [0.62626263, 0.70967742],\n",
       "       [0.58585859, 0.31182796],\n",
       "       [0.8989899 , 0.96774194],\n",
       "       [0.72727273, 0.48387097],\n",
       "       [0.68686869, 0.70967742],\n",
       "       [0.56565657, 0.53763441],\n",
       "       [0.54545455, 0.20430108],\n",
       "       [0.61616162, 0.62365591],\n",
       "       [0.78787879, 0.64516129],\n",
       "       [0.54545455, 0.82795699],\n",
       "       [0.50505051, 0.27956989],\n",
       "       [0.66666667, 0.79569892]])"
      ]
     },
     "execution_count": 6,
     "metadata": {},
     "output_type": "execute_result"
    }
   ],
   "source": [
    "#9 เลือกฟีเจอร์ STG กับ PEG สร้าง K-Means ให้ K=2\n",
    "data = df[['STG','PEG']]\n",
    "data = np.array(data)\n",
    "data"
   ]
  },
  {
   "cell_type": "code",
   "execution_count": 7,
   "metadata": {},
   "outputs": [
    {
     "data": {
      "text/plain": [
       "array([0, 1, 0, 0, 0, 1, 1, 0, 0, 1, 1, 0, 0, 1, 1, 1, 0, 0, 0, 1, 0, 1,\n",
       "       1, 0, 0, 1, 0, 0, 1, 1, 1, 0, 0, 1, 1, 0, 0, 0, 0, 0, 0, 1, 1, 0,\n",
       "       0, 1, 1, 1, 1, 1, 0, 0, 0, 1, 1, 0, 0, 1, 1, 0, 0, 1, 1, 0, 0, 0,\n",
       "       0, 1, 0, 1, 1, 1, 0, 1, 1, 0, 0, 0, 0, 0, 0, 1, 1, 0, 0, 0, 1, 0,\n",
       "       0, 1, 1, 0, 0, 0, 1, 0, 0, 1, 1, 0, 0, 1, 1, 0, 0, 1, 1, 1, 0, 1,\n",
       "       0, 0, 1, 1, 1, 0, 0, 1, 1, 1, 0, 0, 0, 1, 1, 1, 1, 0, 0, 0, 0, 1,\n",
       "       0, 1, 1, 1, 0, 0, 1, 0, 0, 0, 1, 0, 1, 1, 0, 0, 0, 1, 1, 0, 0, 0,\n",
       "       1, 1, 1, 1, 1, 1, 0, 0, 1, 1, 0, 1, 1, 1, 0, 1, 0, 1, 1, 0, 1, 0,\n",
       "       0, 1, 1, 1, 0, 1, 1, 0, 0, 0, 1, 1, 0, 1, 1, 1, 1, 1, 1, 0, 0, 0,\n",
       "       1, 0, 0, 1, 0, 0, 1, 0, 1, 1, 0, 1, 1, 1, 1, 0, 1, 0, 0, 1, 1, 0,\n",
       "       0, 0, 1, 1, 0, 1, 1, 0, 1, 1, 1, 0, 0, 1, 1, 0, 0, 1, 1, 1, 0, 1,\n",
       "       1, 0, 0, 1, 1, 0, 1, 1, 1, 1, 0, 1, 1, 1, 0, 1])"
      ]
     },
     "execution_count": 7,
     "metadata": {},
     "output_type": "execute_result"
    }
   ],
   "source": [
    "from sklearn.cluster import KMeans\n",
    "\n",
    "kmeans = KMeans(n_clusters=2)\n",
    "kmeans_label = kmeans.fit_predict(data)\n",
    "kmeans_label"
   ]
  },
  {
   "cell_type": "code",
   "execution_count": 8,
   "metadata": {},
   "outputs": [
    {
     "data": {
      "text/plain": [
       "array([[0.32509775, 0.23779917],\n",
       "       [0.42097844, 0.72925694]])"
      ]
     },
     "execution_count": 8,
     "metadata": {},
     "output_type": "execute_result"
    }
   ],
   "source": [
    "#10 หาค่า cluster coordinates, inertia และ iteration ของ K-Means\n",
    "kmeans.cluster_centers_"
   ]
  },
  {
   "cell_type": "code",
   "execution_count": 9,
   "metadata": {},
   "outputs": [
    {
     "data": {
      "text/plain": [
       "14.800086630762149"
      ]
     },
     "execution_count": 9,
     "metadata": {},
     "output_type": "execute_result"
    }
   ],
   "source": [
    "kmeans.inertia_"
   ]
  },
  {
   "cell_type": "code",
   "execution_count": 10,
   "metadata": {},
   "outputs": [
    {
     "data": {
      "text/plain": [
       "5"
      ]
     },
     "execution_count": 10,
     "metadata": {},
     "output_type": "execute_result"
    }
   ],
   "source": [
    "kmeans.n_iter_"
   ]
  },
  {
   "cell_type": "code",
   "execution_count": 11,
   "metadata": {},
   "outputs": [
    {
     "data": {
      "image/png": "[encoded data removed]",
      "text/plain": [
       "<Figure size 720x720 with 1 Axes>"
      ]
     },
     "metadata": {
      "needs_background": "light"
     },
     "output_type": "display_data"
    }
   ],
   "source": [
    "#11 สร้าง Clustering Visualization\n",
    "x1 = data[kmeans_label == 0][:,0]\n",
    "y1 = data[kmeans_label == 0][:,1]\n",
    "x2 = data[kmeans_label == 1][:,0]\n",
    "y2 = data[kmeans_label == 1][:,1]\n",
    "\n",
    "plt.figure(figsize=(10,10))\n",
    "plt.scatter(x1,y1, s=20, c='b', label='cluster_1')\n",
    "plt.scatter(x2,y2, s=20, c='r', label='cluster_2')\n",
    "plt.scatter(kmeans.cluster_centers_[:,0], kmeans.cluster_centers_[:,1], s=100, c='black',label='Centroids')\n",
    "plt.title('Clustering visualization with K-means (K=2)')\n",
    "plt.legend()\n",
    "plt.xlabel('STG')\n",
    "plt.ylabel('PEG')\n",
    "plt.grid()"
   ]
  },
  {
   "cell_type": "code",
   "execution_count": 12,
   "metadata": {},
   "outputs": [
    {
     "data": {
      "text/plain": [
       "[<matplotlib.lines.Line2D at 0x1a2318dfba8>]"
      ]
     },
     "execution_count": 12,
     "metadata": {},
     "output_type": "execute_result"
    },
    {
     "data": {
      "image/png": "[encoded data removed]",
      "text/plain": [
       "<Figure size 720x432 with 1 Axes>"
      ]
     },
     "metadata": {
      "needs_background": "light"
     },
     "output_type": "display_data"
    }
   ],
   "source": [
    "#12 ทำ Elbow Method หาค่า K ที่เหมาะสมที่สุด และทำ Elbow Method Visualization\n",
    "wcss = []\n",
    "for i in range(1,10):\n",
    "    kmeans = KMeans(n_clusters=i)\n",
    "    kmeans.fit(data)\n",
    "    wcss.append(kmeans.inertia_)\n",
    "    \n",
    "plt.figure(figsize=(10,6))\n",
    "plt.plot(range(1,10), wcss)"
   ]
  },
  {
   "cell_type": "code",
   "execution_count": 13,
   "metadata": {},
   "outputs": [],
   "source": [
    "# K ที่เหมาะสม = 6"
   ]
  },
  {
   "cell_type": "code",
   "execution_count": 14,
   "metadata": {},
   "outputs": [
    {
     "data": {
      "text/plain": [
       "array([0, 3, 0, 0, 0, 1, 1, 0, 0, 3, 3, 0, 0, 3, 1, 3, 0, 0, 0, 1, 0, 1,\n",
       "       1, 0, 0, 3, 0, 0, 1, 3, 1, 0, 0, 3, 3, 0, 0, 0, 0, 1, 0, 3, 1, 0,\n",
       "       0, 1, 1, 3, 3, 1, 0, 1, 0, 3, 1, 0, 0, 1, 3, 0, 0, 1, 1, 0, 4, 4,\n",
       "       4, 1, 4, 1, 1, 3, 4, 1, 3, 4, 4, 4, 4, 4, 4, 1, 1, 4, 4, 4, 3, 4,\n",
       "       4, 1, 1, 4, 4, 4, 3, 4, 4, 3, 1, 4, 4, 3, 1, 4, 4, 1, 1, 1, 4, 3,\n",
       "       4, 4, 1, 3, 1, 1, 4, 3, 1, 3, 4, 4, 4, 3, 3, 1, 1, 4, 4, 4, 4, 1,\n",
       "       4, 3, 1, 1, 4, 4, 1, 4, 4, 1, 1, 4, 1, 1, 4, 4, 4, 3, 3, 4, 4, 4,\n",
       "       1, 1, 1, 3, 1, 1, 4, 4, 3, 3, 4, 3, 1, 3, 4, 3, 4, 1, 3, 4, 1, 4,\n",
       "       4, 3, 1, 3, 4, 1, 3, 4, 4, 5, 3, 1, 4, 1, 1, 3, 1, 1, 2, 5, 5, 5,\n",
       "       2, 5, 5, 2, 5, 5, 2, 5, 2, 2, 5, 2, 2, 2, 2, 5, 2, 5, 5, 2, 1, 5,\n",
       "       5, 5, 2, 2, 5, 2, 2, 5, 2, 2, 2, 5, 5, 2, 2, 5, 5, 2, 2, 1, 5, 2,\n",
       "       2, 5, 5, 2, 2, 5, 2, 2, 2, 2, 5, 2, 2, 2, 5, 2])"
      ]
     },
     "execution_count": 14,
     "metadata": {},
     "output_type": "execute_result"
    }
   ],
   "source": [
    "#13 สร้าง K-Means ด้วย ค่า K จาก Elbow Method และหาค่า cluster coordinates, inertia และ iteration ใหม่\n",
    "kmeans = KMeans(n_clusters=6)\n",
    "kmeans_label = kmeans.fit_predict(data)\n",
    "kmeans_label"
   ]
  },
  {
   "cell_type": "code",
   "execution_count": 15,
   "metadata": {},
   "outputs": [
    {
     "data": {
      "text/plain": [
       "array([[0.10590278, 0.21471774],\n",
       "       [0.30887911, 0.62140132],\n",
       "       [0.73708514, 0.70998464],\n",
       "       [0.30729244, 0.88355625],\n",
       "       [0.31811448, 0.22998208],\n",
       "       [0.59642857, 0.24769585]])"
      ]
     },
     "execution_count": 15,
     "metadata": {},
     "output_type": "execute_result"
    }
   ],
   "source": [
    "kmeans.cluster_centers_"
   ]
  },
  {
   "cell_type": "code",
   "execution_count": 16,
   "metadata": {},
   "outputs": [
    {
     "data": {
      "text/plain": [
       "4.77786106852381"
      ]
     },
     "execution_count": 16,
     "metadata": {},
     "output_type": "execute_result"
    }
   ],
   "source": [
    "kmeans.inertia_"
   ]
  },
  {
   "cell_type": "code",
   "execution_count": 17,
   "metadata": {},
   "outputs": [
    {
     "data": {
      "text/plain": [
       "9"
      ]
     },
     "execution_count": 17,
     "metadata": {},
     "output_type": "execute_result"
    }
   ],
   "source": [
    "kmeans.n_iter_"
   ]
  },
  {
   "cell_type": "code",
   "execution_count": 18,
   "metadata": {},
   "outputs": [
    {
     "data": {
      "text/plain": [
       "<matplotlib.legend.Legend at 0x1a2316eedd8>"
      ]
     },
     "execution_count": 18,
     "metadata": {},
     "output_type": "execute_result"
    },
    {
     "data": {
      "image/png": "[encoded data removed]",
      "text/plain": [
       "<Figure size 720x720 with 1 Axes>"
      ]
     },
     "metadata": {
      "needs_background": "light"
     },
     "output_type": "display_data"
    }
   ],
   "source": [
    "#14 สร้าง Clustering Visualization ของ K-Means\n",
    "x1 = data[kmeans_label==0][:,0]\n",
    "y1 = data[kmeans_label==0][:,1]\n",
    "x2 = data[kmeans_label==1][:,0]\n",
    "y2 = data[kmeans_label==1][:,1]\n",
    "x3 = data[kmeans_label==2][:,0]\n",
    "y3 = data[kmeans_label==2][:,1]\n",
    "x4 = data[kmeans_label==3][:,0]\n",
    "y4 = data[kmeans_label==3][:,1]\n",
    "x5 = data[kmeans_label==4][:,0]\n",
    "y5 = data[kmeans_label==4][:,1]\n",
    "x6 = data[kmeans_label==5][:,0]\n",
    "y6 = data[kmeans_label==5][:,1]\n",
    "\n",
    "plt.figure(figsize=(10,10))\n",
    "plt.scatter(x1,y1, s=20, c='green', label='cluster_1')\n",
    "plt.scatter(x2,y2, s=20, c='red', label='cluster_2')\n",
    "plt.scatter(x3,y3, s=20, c='blue', label='cluster_3')\n",
    "plt.scatter(x4,y4, s=20, c='yellow', label='cluster_4')\n",
    "plt.scatter(x5,y5, s=20, c='brown', label='cluster_5')\n",
    "plt.scatter(x6,y6, s=20, c='purple', label='cluster_6')\n",
    "plt.scatter(kmeans.cluster_centers_[:,0], kmeans.cluster_centers_[:,1], s=100, c='black', label='centroid')\n",
    "plt.title('Clustering visualization with K-means (K=6)')\n",
    "plt.xlabel('STG')\n",
    "plt.ylabel('PEG')\n",
    "plt.legend()"
   ]
  },
  {
   "cell_type": "code",
   "execution_count": 20,
   "metadata": {},
   "outputs": [
    {
     "data": {
      "text/plain": [
       "array([[0.        , 0.        ],\n",
       "       [0.10526316, 0.24242424],\n",
       "       [0.05263158, 0.25252525],\n",
       "       [0.15789474, 0.65656566],\n",
       "       [0.08421053, 0.98989899],\n",
       "       [0.42105263, 0.1010101 ],\n",
       "       [0.45263158, 0.29292929],\n",
       "       [0.35789474, 0.4040404 ],\n",
       "       [0.36842105, 0.72727273],\n",
       "       [0.52631579, 0.2020202 ],\n",
       "       [0.57894737, 0.3030303 ],\n",
       "       [0.53684211, 0.41414141],\n",
       "       [0.54736842, 0.78787879],\n",
       "       [0.73684211, 0.15151515],\n",
       "       [0.73684211, 0.3030303 ],\n",
       "       [0.78947368, 0.35353535],\n",
       "       [0.73684211, 0.01010101],\n",
       "       [0.10526316, 0.08080808],\n",
       "       [0.05263158, 0.27272727],\n",
       "       [0.26315789, 0.49494949],\n",
       "       [0.21052632, 0.78787879],\n",
       "       [0.38947368, 0.12121212],\n",
       "       [0.32631579, 0.29292929],\n",
       "       [0.33684211, 0.42424242],\n",
       "       [0.36842105, 0.76767677],\n",
       "       [0.71578947, 0.18181818],\n",
       "       [0.57894737, 0.25252525],\n",
       "       [0.63157895, 0.45454545],\n",
       "       [0.65263158, 0.94949495],\n",
       "       [0.84210526, 0.21212121],\n",
       "       [0.78947368, 0.31313131],\n",
       "       [0.78947368, 0.65656566],\n",
       "       [0.73684211, 0.76767677],\n",
       "       [0.04210526, 0.19191919],\n",
       "       [0.29473684, 0.31313131],\n",
       "       [0.12631579, 0.43434343],\n",
       "       [0.23157895, 0.72727273],\n",
       "       [0.33684211, 0.08080808],\n",
       "       [0.32631579, 0.26262626],\n",
       "       [0.4       , 0.49494949],\n",
       "       [0.37894737, 0.76767677],\n",
       "       [0.63157895, 0.2020202 ],\n",
       "       [0.57894737, 0.29292929],\n",
       "       [0.64210526, 0.64646465],\n",
       "       [0.68421053, 0.27272727],\n",
       "       [0.84210526, 0.14141414],\n",
       "       [0.78947368, 0.31313131],\n",
       "       [0.89473684, 0.38383838],\n",
       "       [0.74736842, 0.71717172],\n",
       "       [0.02105263, 0.18181818],\n",
       "       [0.09473684, 0.28282828],\n",
       "       [0.2       , 0.51515152],\n",
       "       [0.12631579, 0.78787879],\n",
       "       [0.33684211, 0.18181818],\n",
       "       [0.38947368, 0.29292929],\n",
       "       [0.34736842, 0.42424242],\n",
       "       [0.37894737, 0.84848485],\n",
       "       [0.69473684, 0.19191919],\n",
       "       [0.61052632, 0.33333333],\n",
       "       [0.63157895, 0.64646465],\n",
       "       [0.55789474, 0.75757576],\n",
       "       [0.75789474, 0.19191919],\n",
       "       [0.82105263, 0.3030303 ],\n",
       "       [0.76842105, 0.48484848],\n",
       "       [0.8       , 0.80808081],\n",
       "       [0.03157895, 0.09090909],\n",
       "       [0.06315789, 0.26262626],\n",
       "       [0.2       , 0.55555556],\n",
       "       [0.12631579, 0.28282828],\n",
       "       [0.42105263, 0.02020202],\n",
       "       [0.38947368, 0.29292929],\n",
       "       [0.43157895, 0.42424242],\n",
       "       [0.34736842, 0.66666667],\n",
       "       [0.54736842, 0.3030303 ],\n",
       "       [0.72631579, 0.33333333],\n",
       "       [0.52631579, 0.4040404 ],\n",
       "       [0.6       , 0.75757576],\n",
       "       [0.75789474, 0.1010101 ],\n",
       "       [0.74736842, 0.26262626],\n",
       "       [0.90526316, 0.44444444],\n",
       "       [0.83157895, 0.76767677],\n",
       "       [0.27368421, 0.12121212],\n",
       "       [0.30526316, 0.29292929],\n",
       "       [0.15789474, 0.48484848],\n",
       "       [0.10526316, 0.70707071],\n",
       "       [0.32631579, 0.2020202 ],\n",
       "       [0.4       , 0.31313131],\n",
       "       [0.33684211, 0.41414141],\n",
       "       [0.42105263, 0.78787879],\n",
       "       [0.54736842, 0.09090909],\n",
       "       [0.67368421, 0.29292929],\n",
       "       [0.57894737, 0.78787879],\n",
       "       [0.6       , 0.60606061],\n",
       "       [0.83157895, 0.23232323],\n",
       "       [0.93684211, 0.32323232],\n",
       "       [0.90526316, 0.62626263],\n",
       "       [0.76842105, 0.77777778],\n",
       "       [0.31052632, 0.33333333],\n",
       "       [0.30526316, 0.29292929],\n",
       "       [0.08421053, 0.42424242],\n",
       "       [0.18947368, 0.48484848],\n",
       "       [0.32631579, 0.33333333],\n",
       "       [0.32631579, 0.31313131],\n",
       "       [0.4       , 0.49494949],\n",
       "       [0.32631579, 0.76767677],\n",
       "       [0.58947368, 0.25252525],\n",
       "       [0.63157895, 0.29292929],\n",
       "       [0.66315789, 0.4040404 ],\n",
       "       [0.54736842, 0.81818182],\n",
       "       [0.84210526, 0.37373737],\n",
       "       [0.85263158, 0.27272727],\n",
       "       [0.92631579, 0.4040404 ],\n",
       "       [0.75789474, 0.8989899 ],\n",
       "       [0.02105263, 0.4040404 ],\n",
       "       [0.30526316, 0.31313131],\n",
       "       [0.18947368, 0.61616162],\n",
       "       [0.29473684, 0.66666667],\n",
       "       [0.29473684, 0.80808081],\n",
       "       [0.46315789, 0.17171717],\n",
       "       [0.48421053, 0.32323232],\n",
       "       [0.42105263, 0.65656566],\n",
       "       [0.36842105, 0.72727273],\n",
       "       [0.52631579, 0.11111111],\n",
       "       [0.56842105, 0.25252525],\n",
       "       [0.54736842, 0.49494949],\n",
       "       [0.70526316, 0.92929293],\n",
       "       [1.        , 0.22222222],\n",
       "       [0.84210526, 0.28282828],\n",
       "       [0.75789474, 0.63636364],\n",
       "       [0.75789474, 0.88888889],\n",
       "       [0.02105263, 0.06060606],\n",
       "       [0.27368421, 0.26262626],\n",
       "       [0.18947368, 0.55555556],\n",
       "       [0.29473684, 0.70707071],\n",
       "       [0.43157895, 0.1010101 ],\n",
       "       [0.34736842, 0.31313131],\n",
       "       [0.42105263, 0.48484848],\n",
       "       [0.33684211, 0.78787879],\n",
       "       [0.61052632, 0.18181818],\n",
       "       [0.55789474, 0.27272727],\n",
       "       [0.52631579, 0.55555556],\n",
       "       [0.69473684, 0.78787879],\n",
       "       [0.84210526, 0.22222222],\n",
       "       [0.85263158, 0.22222222],\n",
       "       [0.91578947, 0.56565657],\n",
       "       [0.8       , 0.95959596],\n",
       "       [0.2       , 0.24242424],\n",
       "       [0.21052632, 0.33333333],\n",
       "       [0.10526316, 0.64646465],\n",
       "       [0.15789474, 0.65656566],\n",
       "       [0.4       , 0.14141414],\n",
       "       [0.34736842, 0.32323232],\n",
       "       [0.38947368, 0.48484848],\n",
       "       [0.41052632, 0.77777778],\n",
       "       [0.53684211, 0.09090909],\n",
       "       [0.57894737, 0.33333333],\n",
       "       [0.66315789, 0.36363636],\n",
       "       [0.61052632, 0.77777778],\n",
       "       [0.76842105, 0.18181818],\n",
       "       [0.83157895, 0.31313131],\n",
       "       [0.87368421, 0.61616162],\n",
       "       [0.8       , 0.84848485],\n",
       "       [0.02105263, 0.24242424],\n",
       "       [0.28421053, 0.27272727],\n",
       "       [0.10526316, 0.49494949],\n",
       "       [0.12631579, 0.3030303 ],\n",
       "       [0.4       , 0.2020202 ],\n",
       "       [0.48421053, 0.49494949],\n",
       "       [0.33684211, 0.60606061],\n",
       "       [0.35789474, 0.21212121],\n",
       "       [0.66315789, 0.04040404],\n",
       "       [0.65263158, 0.33333333],\n",
       "       [0.62105263, 0.53535354],\n",
       "       [0.61052632, 0.75757576],\n",
       "       [0.93684211, 0.12121212],\n",
       "       [0.83157895, 0.33333333],\n",
       "       [0.87368421, 0.65656566],\n",
       "       [0.92631579, 0.75757576],\n",
       "       [0.23157895, 0.22222222],\n",
       "       [0.11578947, 0.26262626],\n",
       "       [0.10526316, 0.63636364],\n",
       "       [0.2       , 1.        ],\n",
       "       [0.4       , 0.24242424],\n",
       "       [0.43157895, 0.29292929],\n",
       "       [0.32631579, 0.62626263],\n",
       "       [0.35789474, 0.78787879],\n",
       "       [0.70526316, 0.01010101],\n",
       "       [0.64210526, 0.29292929],\n",
       "       [0.62105263, 0.55555556],\n",
       "       [0.54736842, 0.90909091],\n",
       "       [0.86315789, 0.16161616],\n",
       "       [0.75789474, 0.3030303 ],\n",
       "       [0.81052632, 0.4040404 ],\n",
       "       [0.74736842, 0.88888889],\n",
       "       [0.23157895, 0.11111111],\n",
       "       [0.28421053, 0.25252525],\n",
       "       [0.2       , 0.48484848],\n",
       "       [0.07368421, 0.72727273],\n",
       "       [0.4       , 0.18181818],\n",
       "       [0.35789474, 0.3030303 ],\n",
       "       [0.32631579, 0.55555556],\n",
       "       [0.34736842, 0.65656566],\n",
       "       [0.57894737, 0.08080808],\n",
       "       [0.65263158, 0.3030303 ],\n",
       "       [0.71578947, 0.65656566],\n",
       "       [0.54736842, 0.81818182],\n",
       "       [0.92631579, 0.09090909],\n",
       "       [0.82105263, 0.31313131],\n",
       "       [0.74736842, 0.48484848],\n",
       "       [0.95789474, 0.80808081],\n",
       "       [0.13684211, 0.14141414],\n",
       "       [0.06315789, 0.31313131],\n",
       "       [0.2       , 0.58585859],\n",
       "       [0.07368421, 0.83838384],\n",
       "       [0.50526316, 0.2020202 ],\n",
       "       [0.41052632, 0.29292929],\n",
       "       [0.33684211, 0.50505051],\n",
       "       [0.32631579, 0.87878788],\n",
       "       [0.57894737, 0.17171717],\n",
       "       [0.65263158, 0.28282828],\n",
       "       [0.58947368, 0.62626263],\n",
       "       [0.62105263, 0.78787879],\n",
       "       [0.92631579, 0.2020202 ],\n",
       "       [0.82105263, 0.31313131],\n",
       "       [0.76842105, 0.63636364],\n",
       "       [0.77894737, 0.82828283],\n",
       "       [0.13684211, 0.23232323],\n",
       "       [0.06315789, 0.29292929],\n",
       "       [0.2       , 0.55555556],\n",
       "       [0.07368421, 0.70707071],\n",
       "       [0.33684211, 0.12121212],\n",
       "       [0.37894737, 0.28282828],\n",
       "       [0.42105263, 0.5959596 ],\n",
       "       [0.51578947, 0.91919192],\n",
       "       [0.57894737, 0.15151515],\n",
       "       [0.53684211, 0.27272727],\n",
       "       [0.57894737, 0.60606061],\n",
       "       [0.58947368, 0.4040404 ],\n",
       "       [0.85263158, 0.13131313],\n",
       "       [0.86315789, 0.3030303 ],\n",
       "       [0.76842105, 0.62626263],\n",
       "       [1.        , 0.78787879],\n",
       "       [0.15789474, 0.18181818],\n",
       "       [0.06315789, 0.27272727],\n",
       "       [0.25263158, 0.65656566],\n",
       "       [0.27368421, 0.8989899 ],\n",
       "       [0.41052632, 0.1010101 ],\n",
       "       [0.32631579, 0.29292929],\n",
       "       [0.51578947, 0.65656566],\n",
       "       [0.47368421, 0.7979798 ],\n",
       "       [0.68421053, 0.09090909],\n",
       "       [0.63157895, 0.31313131],\n",
       "       [0.57894737, 0.64646465],\n",
       "       [0.72631579, 0.92929293],\n",
       "       [0.74736842, 0.19191919],\n",
       "       [0.74736842, 0.29292929],\n",
       "       [0.85263158, 0.61616162],\n",
       "       [0.8       , 0.87878788]])"
      ]
     },
     "execution_count": 20,
     "metadata": {},
     "output_type": "execute_result"
    }
   ],
   "source": [
    "#15 เลือกฟีเจอร์ใดก็ได้ 2 ฟีเจอร์ที่ไม่ซ้ำเดิม สร้าง K-Means ให้ K=2\n",
    "data = df[['STR','LPR']]\n",
    "data = np.array(data)\n",
    "data"
   ]
  },
  {
   "cell_type": "code",
   "execution_count": 21,
   "metadata": {},
   "outputs": [
    {
     "data": {
      "text/plain": [
       "array([1, 1, 1, 1, 1, 1, 1, 1, 1, 0, 0, 0, 0, 0, 0, 0, 0, 1, 1, 1, 1, 1,\n",
       "       1, 1, 1, 0, 0, 0, 0, 0, 0, 0, 0, 1, 1, 1, 1, 1, 1, 1, 1, 0, 0, 0,\n",
       "       0, 0, 0, 0, 0, 1, 1, 1, 1, 1, 1, 1, 1, 0, 0, 0, 0, 0, 0, 0, 0, 1,\n",
       "       1, 1, 1, 1, 1, 1, 1, 0, 0, 0, 0, 0, 0, 0, 0, 1, 1, 1, 1, 1, 1, 1,\n",
       "       1, 0, 0, 0, 0, 0, 0, 0, 0, 1, 1, 1, 1, 1, 1, 1, 1, 0, 0, 0, 0, 0,\n",
       "       0, 0, 0, 1, 1, 1, 1, 1, 1, 1, 1, 1, 0, 0, 0, 0, 0, 0, 0, 0, 1, 1,\n",
       "       1, 1, 1, 1, 1, 1, 0, 0, 0, 0, 0, 0, 0, 0, 1, 1, 1, 1, 1, 1, 1, 1,\n",
       "       0, 0, 0, 0, 0, 0, 0, 0, 1, 1, 1, 1, 1, 0, 1, 1, 0, 0, 0, 0, 0, 0,\n",
       "       0, 0, 1, 1, 1, 1, 1, 1, 1, 1, 0, 0, 0, 0, 0, 0, 0, 0, 1, 1, 1, 1,\n",
       "       1, 1, 1, 1, 0, 0, 0, 0, 0, 0, 0, 0, 1, 1, 1, 1, 0, 1, 1, 1, 0, 0,\n",
       "       0, 0, 0, 0, 0, 0, 1, 1, 1, 1, 1, 1, 1, 0, 0, 0, 0, 0, 0, 0, 0, 0,\n",
       "       1, 1, 1, 1, 1, 1, 0, 0, 0, 0, 0, 0, 0, 0, 0, 0])"
      ]
     },
     "execution_count": 21,
     "metadata": {},
     "output_type": "execute_result"
    }
   ],
   "source": [
    "kmeans = KMeans(n_clusters=2)\n",
    "kmeans_label = kmeans.fit_predict(data)\n",
    "kmeans_label"
   ]
  },
  {
   "cell_type": "code",
   "execution_count": 22,
   "metadata": {},
   "outputs": [
    {
     "data": {
      "text/plain": [
       "array([[0.709537  , 0.44900129],\n",
       "       [0.26185263, 0.42440404]])"
      ]
     },
     "execution_count": 22,
     "metadata": {},
     "output_type": "execute_result"
    }
   ],
   "source": [
    "#16 หาค่า cluster coordinates ของ K-Means ของฟีเจอร์ใหม่\n",
    "kmeans.cluster_centers_"
   ]
  },
  {
   "cell_type": "code",
   "execution_count": 23,
   "metadata": {},
   "outputs": [
    {
     "data": {
      "text/plain": [
       "20.412159549901858"
      ]
     },
     "execution_count": 23,
     "metadata": {},
     "output_type": "execute_result"
    }
   ],
   "source": [
    "#17 หาค่า inertia และ iteration ของ K-Means ของฟีเจอร์ใหม่\n",
    "kmeans.inertia_"
   ]
  },
  {
   "cell_type": "code",
   "execution_count": 24,
   "metadata": {},
   "outputs": [
    {
     "data": {
      "text/plain": [
       "3"
      ]
     },
     "execution_count": 24,
     "metadata": {},
     "output_type": "execute_result"
    }
   ],
   "source": [
    "kmeans.n_iter_"
   ]
  },
  {
   "cell_type": "code",
   "execution_count": 25,
   "metadata": {},
   "outputs": [
    {
     "data": {
      "image/png": "[encoded data removed]",
      "text/plain": [
       "<Figure size 720x720 with 1 Axes>"
      ]
     },
     "metadata": {
      "needs_background": "light"
     },
     "output_type": "display_data"
    }
   ],
   "source": [
    "#18 สร้าง Clustering Visualization ของฟีเจอร์ใหม่\n",
    "x1 = data[kmeans_label == 0][:,0]\n",
    "y1 = data[kmeans_label == 0][:,1]\n",
    "x2 = data[kmeans_label == 1][:,0]\n",
    "y2 = data[kmeans_label == 1][:,1]\n",
    "\n",
    "plt.figure(figsize=(10,10))\n",
    "plt.scatter(x1,y1, s=20, c='b', label='cluster_1')\n",
    "plt.scatter(x2,y2, s=20, c='r', label='cluster_2')\n",
    "plt.scatter(kmeans.cluster_centers_[:,0], kmeans.cluster_centers_[:,1], s=100, c='black',label='Centroids')\n",
    "plt.title('Clustering visualization with K-means (K=2)')\n",
    "plt.legend()\n",
    "plt.xlabel('STR')\n",
    "plt.ylabel('LPR')\n",
    "plt.grid() "
   ]
  },
  {
   "cell_type": "code",
   "execution_count": 26,
   "metadata": {},
   "outputs": [
    {
     "data": {
      "text/plain": [
       "[<matplotlib.lines.Line2D at 0x1a2317d6b38>]"
      ]
     },
     "execution_count": 26,
     "metadata": {},
     "output_type": "execute_result"
    },
    {
     "data": {
      "image/png": "[encoded data removed]",
      "text/plain": [
       "<Figure size 720x432 with 1 Axes>"
      ]
     },
     "metadata": {
      "needs_background": "light"
     },
     "output_type": "display_data"
    }
   ],
   "source": [
    "#19 ทำ Elbow Method หาค่า K ที่เหมาะสมที่สุด ของฟีเจอร์ใหม่ และทำ Elbow Method Visualization\n",
    "wcss = []\n",
    "for i in range(1,10):\n",
    "    kmeans = KMeans(n_clusters=i)\n",
    "    kmeans.fit(data)\n",
    "    wcss.append(kmeans.inertia_)\n",
    "    \n",
    "plt.figure(figsize=(10,6))\n",
    "plt.plot(range(1,10), wcss)"
   ]
  },
  {
   "cell_type": "code",
   "execution_count": 27,
   "metadata": {},
   "outputs": [],
   "source": [
    "# K ที่เหมาะสม = 5"
   ]
  },
  {
   "cell_type": "code",
   "execution_count": 28,
   "metadata": {},
   "outputs": [
    {
     "data": {
      "text/plain": [
       "array([0, 0, 0, 3, 3, 2, 2, 2, 3, 2, 2, 2, 1, 4, 4, 4, 4, 0, 0, 3, 3, 2,\n",
       "       2, 2, 3, 4, 2, 4, 1, 4, 4, 1, 1, 0, 2, 0, 3, 2, 2, 2, 3, 4, 2, 1,\n",
       "       4, 4, 4, 4, 1, 0, 0, 3, 3, 2, 2, 2, 3, 4, 4, 1, 1, 4, 4, 4, 1, 0,\n",
       "       0, 3, 0, 2, 2, 2, 3, 2, 4, 2, 1, 4, 4, 4, 1, 0, 2, 3, 3, 2, 2, 2,\n",
       "       3, 2, 4, 1, 1, 4, 4, 1, 1, 2, 2, 0, 3, 2, 2, 2, 3, 2, 4, 4, 1, 4,\n",
       "       4, 4, 1, 0, 2, 3, 3, 3, 2, 2, 3, 3, 2, 2, 2, 1, 4, 4, 1, 1, 0, 2,\n",
       "       3, 3, 2, 2, 2, 3, 4, 2, 1, 1, 4, 4, 1, 1, 0, 0, 3, 3, 2, 2, 2, 3,\n",
       "       2, 2, 4, 1, 4, 4, 1, 1, 0, 2, 3, 0, 2, 2, 3, 2, 4, 4, 1, 1, 4, 4,\n",
       "       1, 1, 0, 0, 3, 3, 2, 2, 3, 3, 4, 4, 1, 1, 4, 4, 4, 1, 0, 2, 3, 3,\n",
       "       2, 2, 3, 3, 2, 4, 1, 1, 4, 4, 4, 1, 0, 0, 3, 3, 2, 2, 3, 3, 2, 4,\n",
       "       1, 1, 4, 4, 1, 1, 0, 0, 3, 3, 2, 2, 3, 1, 2, 2, 1, 2, 4, 4, 1, 1,\n",
       "       0, 0, 3, 3, 2, 2, 1, 1, 4, 4, 1, 1, 4, 4, 1, 1])"
      ]
     },
     "execution_count": 28,
     "metadata": {},
     "output_type": "execute_result"
    }
   ],
   "source": [
    "#20 สร้าง K-Means ด้วย ค่า K จาก Elbow Method หาค่า cluster coordinates, inertia และ iteration\n",
    "kmeans = KMeans(n_clusters=5)\n",
    "kmeans_label = kmeans.fit_predict(data)\n",
    "kmeans_label"
   ]
  },
  {
   "cell_type": "code",
   "execution_count": 29,
   "metadata": {},
   "outputs": [
    {
     "data": {
      "text/plain": [
       "array([[0.10272232, 0.23232323],\n",
       "       [0.70340557, 0.74569222],\n",
       "       [0.42593985, 0.27474747],\n",
       "       [0.25241228, 0.68602694],\n",
       "       [0.77192982, 0.26397306]])"
      ]
     },
     "execution_count": 29,
     "metadata": {},
     "output_type": "execute_result"
    }
   ],
   "source": [
    "kmeans.cluster_centers_"
   ]
  },
  {
   "cell_type": "code",
   "execution_count": 30,
   "metadata": {},
   "outputs": [
    {
     "data": {
      "text/plain": [
       "6.239161683656819"
      ]
     },
     "execution_count": 30,
     "metadata": {},
     "output_type": "execute_result"
    }
   ],
   "source": [
    "kmeans.inertia_"
   ]
  },
  {
   "cell_type": "code",
   "execution_count": 31,
   "metadata": {},
   "outputs": [
    {
     "data": {
      "text/plain": [
       "9"
      ]
     },
     "execution_count": 31,
     "metadata": {},
     "output_type": "execute_result"
    }
   ],
   "source": [
    "kmeans.n_iter_"
   ]
  },
  {
   "cell_type": "code",
   "execution_count": 33,
   "metadata": {},
   "outputs": [
    {
     "data": {
      "text/plain": [
       "<matplotlib.legend.Legend at 0x1a231794c18>"
      ]
     },
     "execution_count": 33,
     "metadata": {},
     "output_type": "execute_result"
    },
    {
     "data": {
      "image/png": "[encoded data removed]",
      "text/plain": [
       "<Figure size 720x720 with 1 Axes>"
      ]
     },
     "metadata": {
      "needs_background": "light"
     },
     "output_type": "display_data"
    }
   ],
   "source": [
    "#21 สร้าง Clustering Visualization ของ K-Means ที่ได้ค่า K จาก Elbow Method ของฟีเจอร์ใหม่\n",
    "x1 = data[kmeans_label==0][:,0]\n",
    "y1 = data[kmeans_label==0][:,1]\n",
    "x2 = data[kmeans_label==1][:,0]\n",
    "y2 = data[kmeans_label==1][:,1]\n",
    "x3 = data[kmeans_label==2][:,0]\n",
    "y3 = data[kmeans_label==2][:,1]\n",
    "x4 = data[kmeans_label==3][:,0]\n",
    "y4 = data[kmeans_label==3][:,1]\n",
    "x5 = data[kmeans_label==4][:,0]\n",
    "y5 = data[kmeans_label==4][:,1]\n",
    "\n",
    "plt.figure(figsize=(10,10))\n",
    "plt.scatter(x1,y1, s=20, c='green', label='cluster_1')\n",
    "plt.scatter(x2,y2, s=20, c='red', label='cluster_2')\n",
    "plt.scatter(x3,y3, s=20, c='blue', label='cluster_3')\n",
    "plt.scatter(x4,y4, s=20, c='yellow', label='cluster_4')\n",
    "plt.scatter(x5,y5, s=20, c='brown', label='cluster_5')\n",
    "plt.scatter(kmeans.cluster_centers_[:,0], kmeans.cluster_centers_[:,1], s=100, c='black', label='centroid')\n",
    "plt.title('Clustering visualization with K-means (K=5)')\n",
    "plt.xlabel('STR')\n",
    "plt.ylabel('LPR')\n",
    "plt.legend()"
   ]
  },
  {
   "cell_type": "code",
   "execution_count": null,
   "metadata": {},
   "outputs": [],
   "source": []
  }
 ],
 "metadata": {
  "kernelspec": {
   "display_name": "Python 3",
   "language": "python",
   "name": "python3"
  },
  "language_info": {
   "codemirror_mode": {
    "name": "ipython",
    "version": 3
   },
   "file_extension": ".py",
   "mimetype": "text/x-python",
   "name": "python",
   "nbconvert_exporter": "python",
   "pygments_lexer": "ipython3",
   "version": "3.7.3"
  }
 },
 "nbformat": 4,
 "nbformat_minor": 2
}
