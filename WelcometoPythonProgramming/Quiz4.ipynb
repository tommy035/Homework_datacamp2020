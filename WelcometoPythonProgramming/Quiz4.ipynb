{
 "cells": [
  {
   "cell_type": "code",
   "execution_count": 1,
   "metadata": {},
   "outputs": [],
   "source": [
    "#1"
   ]
  },
  {
   "cell_type": "code",
   "execution_count": 2,
   "metadata": {},
   "outputs": [
    {
     "data": {
      "text/plain": [
       "6"
      ]
     },
     "execution_count": 2,
     "metadata": {},
     "output_type": "execute_result"
    }
   ],
   "source": [
    "a = [[[1,3],[3,4]],[5,[5,6],[7,8]]]\n",
    "a[1][1][1]"
   ]
  },
  {
   "cell_type": "code",
   "execution_count": 3,
   "metadata": {},
   "outputs": [],
   "source": [
    "#2"
   ]
  },
  {
   "cell_type": "code",
   "execution_count": 4,
   "metadata": {},
   "outputs": [
    {
     "name": "stdout",
     "output_type": "stream",
     "text": [
      "[['Harrison', 'Ford', 70], ['Tony', 'Adams', 50], ['David', 'Beckham', 40], ['Denis', 'Wise', 45]]\n"
     ]
    }
   ],
   "source": [
    "lst = [['Harrison', 'Ford', 70],['Tony','Adams',50],['David','Beckham',40],['Denis','Wise',45]]\n",
    "print(lst)"
   ]
  },
  {
   "cell_type": "code",
   "execution_count": 9,
   "metadata": {},
   "outputs": [],
   "source": [
    "#3"
   ]
  },
  {
   "cell_type": "code",
   "execution_count": 10,
   "metadata": {},
   "outputs": [
    {
     "name": "stdout",
     "output_type": "stream",
     "text": [
      "[['Harrison', 'Ford', 70], ['Tony', 'Adams', 50], ['David', 'Beckham', 40]]\n"
     ]
    }
   ],
   "source": [
    "lst = [['Harrison', 'Ford', 70],['Tony','Adams',50],['David','Beckham',40],['Denis','Wise',45]]\n",
    "del lst[3]\n",
    "print(lst)"
   ]
  },
  {
   "cell_type": "code",
   "execution_count": 11,
   "metadata": {},
   "outputs": [],
   "source": [
    "#4"
   ]
  },
  {
   "cell_type": "code",
   "execution_count": 12,
   "metadata": {},
   "outputs": [
    {
     "name": "stdout",
     "output_type": "stream",
     "text": [
      "[['Zidedine', 'Zidane', 55], ['Harrison', 'Ford', 70], ['Tony', 'Adams', 50], ['David', 'Beckham', 40]]\n"
     ]
    }
   ],
   "source": [
    "lst.insert(0,['Zidedine','Zidane',55])\n",
    "print(lst)"
   ]
  },
  {
   "cell_type": "code",
   "execution_count": 13,
   "metadata": {},
   "outputs": [],
   "source": [
    "#5"
   ]
  },
  {
   "cell_type": "code",
   "execution_count": 14,
   "metadata": {},
   "outputs": [
    {
     "name": "stdout",
     "output_type": "stream",
     "text": [
      "[['Zidedine', 'Zidane', 55], ['Harrison', 'Ford', 80], ['Tony', 'Adams', 50], ['David', 'Beckham', 40]]\n"
     ]
    }
   ],
   "source": [
    "lst[1][2] = 80\n",
    "print(lst)"
   ]
  },
  {
   "cell_type": "code",
   "execution_count": null,
   "metadata": {},
   "outputs": [],
   "source": []
  }
 ],
 "metadata": {
  "kernelspec": {
   "display_name": "Python 3",
   "language": "python",
   "name": "python3"
  },
  "language_info": {
   "codemirror_mode": {
    "name": "ipython",
    "version": 3
   },
   "file_extension": ".py",
   "mimetype": "text/x-python",
   "name": "python",
   "nbconvert_exporter": "python",
   "pygments_lexer": "ipython3",
   "version": "3.7.3"
  }
 },
 "nbformat": 4,
 "nbformat_minor": 2
}
