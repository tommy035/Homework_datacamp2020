{
 "cells": [
  {
   "cell_type": "code",
   "execution_count": 1,
   "metadata": {},
   "outputs": [
    {
     "data": {
      "text/html": [
       "<div>\n",
       "<style scoped>\n",
       "    .dataframe tbody tr th:only-of-type {\n",
       "        vertical-align: middle;\n",
       "    }\n",
       "\n",
       "    .dataframe tbody tr th {\n",
       "        vertical-align: top;\n",
       "    }\n",
       "\n",
       "    .dataframe thead th {\n",
       "        text-align: right;\n",
       "    }\n",
       "</style>\n",
       "<table border=\"1\" class=\"dataframe\">\n",
       "  <thead>\n",
       "    <tr style=\"text-align: right;\">\n",
       "      <th></th>\n",
       "      <th>2014</th>\n",
       "      <th>2015</th>\n",
       "      <th>2016</th>\n",
       "      <th>2017</th>\n",
       "    </tr>\n",
       "  </thead>\n",
       "  <tbody>\n",
       "    <tr>\n",
       "      <th>A</th>\n",
       "      <td>248.411018</td>\n",
       "      <td>432.370307</td>\n",
       "      <td>140.554733</td>\n",
       "      <td>168.810064</td>\n",
       "    </tr>\n",
       "    <tr>\n",
       "      <th>B</th>\n",
       "      <td>378.172043</td>\n",
       "      <td>412.962879</td>\n",
       "      <td>159.618262</td>\n",
       "      <td>269.230159</td>\n",
       "    </tr>\n",
       "    <tr>\n",
       "      <th>C</th>\n",
       "      <td>480.398349</td>\n",
       "      <td>338.185106</td>\n",
       "      <td>176.114674</td>\n",
       "      <td>392.909723</td>\n",
       "    </tr>\n",
       "    <tr>\n",
       "      <th>D</th>\n",
       "      <td>494.686617</td>\n",
       "      <td>61.953706</td>\n",
       "      <td>450.084857</td>\n",
       "      <td>235.190968</td>\n",
       "    </tr>\n",
       "  </tbody>\n",
       "</table>\n",
       "</div>"
      ],
      "text/plain": [
       "         2014        2015        2016        2017\n",
       "A  248.411018  432.370307  140.554733  168.810064\n",
       "B  378.172043  412.962879  159.618262  269.230159\n",
       "C  480.398349  338.185106  176.114674  392.909723\n",
       "D  494.686617   61.953706  450.084857  235.190968"
      ]
     },
     "execution_count": 1,
     "metadata": {},
     "output_type": "execute_result"
    }
   ],
   "source": [
    "#1 สร้าง DataFrame ที่เก็บยอดขายของบริษัท A,B,C,D ของปี 2014,2015,2016,2017 โดยชื่อบริษัทเป็น index และปีเป็น column. สร้างคำสั่ง numpy สุ่มเลขแบบ float ให้เป็นรายได้ของบริษัทที่อยู่ในช่วง 50 – 500 (หน่วยล้านบาท) \n",
    "import numpy as np\n",
    "import pandas as pd\n",
    "import matplotlib.pyplot as plt\n",
    "import seaborn as sns\n",
    "%matplotlib inline\n",
    "x = np.random.uniform(50,500,(4,4))\n",
    "index = [\"A\",\"B\",\"C\",\"D\"]\n",
    "column = [2014,2015,2016,2017]\n",
    "df = pd.DataFrame(x,index,column)\n",
    "df\n"
   ]
  },
  {
   "cell_type": "code",
   "execution_count": 3,
   "metadata": {},
   "outputs": [
    {
     "data": {
      "text/html": [
       "<div>\n",
       "<style scoped>\n",
       "    .dataframe tbody tr th:only-of-type {\n",
       "        vertical-align: middle;\n",
       "    }\n",
       "\n",
       "    .dataframe tbody tr th {\n",
       "        vertical-align: top;\n",
       "    }\n",
       "\n",
       "    .dataframe thead th {\n",
       "        text-align: right;\n",
       "    }\n",
       "</style>\n",
       "<table border=\"1\" class=\"dataframe\">\n",
       "  <thead>\n",
       "    <tr style=\"text-align: right;\">\n",
       "      <th></th>\n",
       "      <th>2014</th>\n",
       "      <th>2015</th>\n",
       "      <th>2016</th>\n",
       "      <th>2017</th>\n",
       "      <th>avg</th>\n",
       "    </tr>\n",
       "  </thead>\n",
       "  <tbody>\n",
       "    <tr>\n",
       "      <th>A</th>\n",
       "      <td>248.411018</td>\n",
       "      <td>432.370307</td>\n",
       "      <td>140.554733</td>\n",
       "      <td>168.810064</td>\n",
       "      <td>247.536531</td>\n",
       "    </tr>\n",
       "    <tr>\n",
       "      <th>B</th>\n",
       "      <td>378.172043</td>\n",
       "      <td>412.962879</td>\n",
       "      <td>159.618262</td>\n",
       "      <td>269.230159</td>\n",
       "      <td>304.995835</td>\n",
       "    </tr>\n",
       "    <tr>\n",
       "      <th>C</th>\n",
       "      <td>480.398349</td>\n",
       "      <td>338.185106</td>\n",
       "      <td>176.114674</td>\n",
       "      <td>392.909723</td>\n",
       "      <td>346.901963</td>\n",
       "    </tr>\n",
       "    <tr>\n",
       "      <th>D</th>\n",
       "      <td>494.686617</td>\n",
       "      <td>61.953706</td>\n",
       "      <td>450.084857</td>\n",
       "      <td>235.190968</td>\n",
       "      <td>310.479037</td>\n",
       "    </tr>\n",
       "  </tbody>\n",
       "</table>\n",
       "</div>"
      ],
      "text/plain": [
       "         2014        2015        2016        2017         avg\n",
       "A  248.411018  432.370307  140.554733  168.810064  247.536531\n",
       "B  378.172043  412.962879  159.618262  269.230159  304.995835\n",
       "C  480.398349  338.185106  176.114674  392.909723  346.901963\n",
       "D  494.686617   61.953706  450.084857  235.190968  310.479037"
      ]
     },
     "execution_count": 3,
     "metadata": {},
     "output_type": "execute_result"
    }
   ],
   "source": [
    "#2 ใช้ข้อมูลจาก DataFrame ด้านบนสร้าง Bar plot ให้แกน x เป็น ชื่อบริษัท ยอดขายเฉลี่ยเป็นแกน Y โดยสร้างกราฟแบบแนวตั้งและแนวนอน\n",
    "df['avg'] = df.mean(axis=1)\n",
    "df"
   ]
  },
  {
   "cell_type": "code",
   "execution_count": 4,
   "metadata": {},
   "outputs": [
    {
     "data": {
      "text/plain": [
       "<matplotlib.axes._subplots.AxesSubplot at 0x22637071d68>"
      ]
     },
     "execution_count": 4,
     "metadata": {},
     "output_type": "execute_result"
    },
    {
     "data": {
      "image/png": "[encoded data removed]",
      "text/plain": [
       "<Figure size 432x288 with 1 Axes>"
      ]
     },
     "metadata": {
      "needs_background": "light"
     },
     "output_type": "display_data"
    }
   ],
   "source": [
    "sns.barplot(x=df.index,y=df['avg'],data=df)"
   ]
  },
  {
   "cell_type": "code",
   "execution_count": 5,
   "metadata": {},
   "outputs": [
    {
     "data": {
      "text/plain": [
       "<matplotlib.axes._subplots.AxesSubplot at 0x2263784c7f0>"
      ]
     },
     "execution_count": 5,
     "metadata": {},
     "output_type": "execute_result"
    },
    {
     "data": {
      "image/png": "[encoded data removed]",
      "text/plain": [
       "<Figure size 432x288 with 1 Axes>"
      ]
     },
     "metadata": {
      "needs_background": "light"
     },
     "output_type": "display_data"
    }
   ],
   "source": [
    "sns.barplot(x=df['avg'],y=df.index,data=df)"
   ]
  },
  {
   "cell_type": "code",
   "execution_count": 7,
   "metadata": {},
   "outputs": [
    {
     "data": {
      "text/plain": [
       "<matplotlib.axes._subplots.AxesSubplot at 0x226378d9358>"
      ]
     },
     "execution_count": 7,
     "metadata": {},
     "output_type": "execute_result"
    },
    {
     "data": {
      "image/png": "[encoded data removed]",
      "text/plain": [
       "<Figure size 432x288 with 1 Axes>"
      ]
     },
     "metadata": {
      "needs_background": "light"
     },
     "output_type": "display_data"
    }
   ],
   "source": [
    "#3 ใช้ข้อมูลจาก DataFrame ด้านบนสร้าง Scatter plot ให้แกน x เป็น ชื่อบริษัท ยอดขายปี 2017 เป็นแกน Y โดยสร้างกราฟแบบแนวตั้งและแนวนอน\n",
    "sns.scatterplot(x=df.index,y=df[2017],data=df)"
   ]
  },
  {
   "cell_type": "code",
   "execution_count": 8,
   "metadata": {},
   "outputs": [
    {
     "data": {
      "text/plain": [
       "<matplotlib.axes._subplots.AxesSubplot at 0x22637965048>"
      ]
     },
     "execution_count": 8,
     "metadata": {},
     "output_type": "execute_result"
    },
    {
     "data": {
      "image/png": "[encoded data removed]",
      "text/plain": [
       "<Figure size 432x288 with 1 Axes>"
      ]
     },
     "metadata": {
      "needs_background": "light"
     },
     "output_type": "display_data"
    }
   ],
   "source": [
    "sns.scatterplot(x=df[2017],y=df.index,data=df)"
   ]
  },
  {
   "cell_type": "code",
   "execution_count": null,
   "metadata": {},
   "outputs": [],
   "source": []
  }
 ],
 "metadata": {
  "kernelspec": {
   "display_name": "Python 3",
   "language": "python",
   "name": "python3"
  },
  "language_info": {
   "codemirror_mode": {
    "name": "ipython",
    "version": 3
   },
   "file_extension": ".py",
   "mimetype": "text/x-python",
   "name": "python",
   "nbconvert_exporter": "python",
   "pygments_lexer": "ipython3",
   "version": "3.7.3"
  }
 },
 "nbformat": 4,
 "nbformat_minor": 2
}
